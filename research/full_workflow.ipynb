{
 "cells": [
  {
   "cell_type": "markdown",
   "metadata": {},
   "source": [
    "# Job Classification - Complete Workflow\n",
    "\n",
    "1. Data Loading and Exploration\n",
    "2. Data Preprocessing\n",
    "3. Model Training (Random Forest, SVM, Naive Bayes)\n",
    "4. Model Comparison and Evaluation"
   ]
  },
  {
   "cell_type": "markdown",
   "metadata": {},
   "source": [
    "## 1. Setup and Imports"
   ]
  },
  {
   "cell_type": "code",
   "execution_count": 6,
   "metadata": {},
   "outputs": [
    {
     "name": "stdout",
     "output_type": "stream",
     "text": [
      "Collecting pandas\n",
      "  Using cached pandas-2.0.3-cp38-cp38-win_amd64.whl.metadata (18 kB)\n",
      "Collecting numpy\n",
      "  Using cached numpy-1.24.4-cp38-cp38-win_amd64.whl.metadata (5.6 kB)\n",
      "Collecting scikit-learn\n",
      "  Using cached scikit_learn-1.3.2-cp38-cp38-win_amd64.whl.metadata (11 kB)\n",
      "Collecting matplotlib\n",
      "  Using cached matplotlib-3.7.5-cp38-cp38-win_amd64.whl.metadata (5.8 kB)\n",
      "Collecting seaborn\n",
      "  Using cached seaborn-0.13.2-py3-none-any.whl.metadata (5.4 kB)\n",
      "Requirement already satisfied: python-dateutil>=2.8.2 in c:\\users\\komal\\anaconda3\\envs\\job_recommendation\\lib\\site-packages (from pandas) (2.9.0)\n",
      "Collecting pytz>=2020.1 (from pandas)\n",
      "  Using cached pytz-2025.2-py2.py3-none-any.whl.metadata (22 kB)\n",
      "Collecting tzdata>=2022.1 (from pandas)\n",
      "  Using cached tzdata-2025.2-py2.py3-none-any.whl.metadata (1.4 kB)\n",
      "Collecting scipy>=1.5.0 (from scikit-learn)\n",
      "  Using cached scipy-1.10.1-cp38-cp38-win_amd64.whl.metadata (58 kB)\n",
      "Collecting joblib>=1.1.1 (from scikit-learn)\n",
      "  Using cached joblib-1.4.2-py3-none-any.whl.metadata (5.4 kB)\n",
      "Collecting threadpoolctl>=2.0.0 (from scikit-learn)\n",
      "  Using cached threadpoolctl-3.5.0-py3-none-any.whl.metadata (13 kB)\n",
      "Collecting contourpy>=1.0.1 (from matplotlib)\n",
      "  Using cached contourpy-1.1.1-cp38-cp38-win_amd64.whl.metadata (5.9 kB)\n",
      "Collecting cycler>=0.10 (from matplotlib)\n",
      "  Using cached cycler-0.12.1-py3-none-any.whl.metadata (3.8 kB)\n",
      "Collecting fonttools>=4.22.0 (from matplotlib)\n",
      "  Downloading fonttools-4.57.0-cp38-cp38-win_amd64.whl.metadata (104 kB)\n",
      "Collecting kiwisolver>=1.0.1 (from matplotlib)\n",
      "  Using cached kiwisolver-1.4.7-cp38-cp38-win_amd64.whl.metadata (6.4 kB)\n",
      "Requirement already satisfied: packaging>=20.0 in c:\\users\\komal\\anaconda3\\envs\\job_recommendation\\lib\\site-packages (from matplotlib) (24.2)\n",
      "Collecting pillow>=6.2.0 (from matplotlib)\n",
      "  Using cached pillow-10.4.0-cp38-cp38-win_amd64.whl.metadata (9.3 kB)\n",
      "Collecting pyparsing>=2.3.1 (from matplotlib)\n",
      "  Using cached pyparsing-3.1.4-py3-none-any.whl.metadata (5.1 kB)\n",
      "Collecting importlib-resources>=3.2.0 (from matplotlib)\n",
      "  Using cached importlib_resources-6.4.5-py3-none-any.whl.metadata (4.0 kB)\n",
      "Requirement already satisfied: zipp>=3.1.0 in c:\\users\\komal\\anaconda3\\envs\\job_recommendation\\lib\\site-packages (from importlib-resources>=3.2.0->matplotlib) (3.21.0)\n",
      "Requirement already satisfied: six>=1.5 in c:\\users\\komal\\anaconda3\\envs\\job_recommendation\\lib\\site-packages (from python-dateutil>=2.8.2->pandas) (1.16.0)\n",
      "Using cached pandas-2.0.3-cp38-cp38-win_amd64.whl (10.8 MB)\n",
      "Using cached numpy-1.24.4-cp38-cp38-win_amd64.whl (14.9 MB)\n",
      "Using cached scikit_learn-1.3.2-cp38-cp38-win_amd64.whl (9.3 MB)\n",
      "Using cached matplotlib-3.7.5-cp38-cp38-win_amd64.whl (7.5 MB)\n",
      "Using cached seaborn-0.13.2-py3-none-any.whl (294 kB)\n",
      "Using cached contourpy-1.1.1-cp38-cp38-win_amd64.whl (477 kB)\n",
      "Using cached cycler-0.12.1-py3-none-any.whl (8.3 kB)\n",
      "Downloading fonttools-4.57.0-cp38-cp38-win_amd64.whl (1.5 MB)\n",
      "   ---------------------------------------- 0.0/1.5 MB ? eta -:--:--\n",
      "   ---------------------------------------- 1.5/1.5 MB 16.2 MB/s eta 0:00:00\n",
      "Using cached importlib_resources-6.4.5-py3-none-any.whl (36 kB)\n",
      "Using cached joblib-1.4.2-py3-none-any.whl (301 kB)\n",
      "Using cached kiwisolver-1.4.7-cp38-cp38-win_amd64.whl (55 kB)\n",
      "Using cached pillow-10.4.0-cp38-cp38-win_amd64.whl (2.6 MB)\n",
      "Using cached pyparsing-3.1.4-py3-none-any.whl (104 kB)\n",
      "Using cached pytz-2025.2-py2.py3-none-any.whl (509 kB)\n",
      "Using cached scipy-1.10.1-cp38-cp38-win_amd64.whl (42.2 MB)\n",
      "Using cached threadpoolctl-3.5.0-py3-none-any.whl (18 kB)\n",
      "Using cached tzdata-2025.2-py2.py3-none-any.whl (347 kB)\n",
      "Installing collected packages: pytz, tzdata, threadpoolctl, pyparsing, pillow, numpy, kiwisolver, joblib, importlib-resources, fonttools, cycler, scipy, pandas, contourpy, scikit-learn, matplotlib, seaborn\n",
      "Successfully installed contourpy-1.1.1 cycler-0.12.1 fonttools-4.57.0 importlib-resources-6.4.5 joblib-1.4.2 kiwisolver-1.4.7 matplotlib-3.7.5 numpy-1.24.4 pandas-2.0.3 pillow-10.4.0 pyparsing-3.1.4 pytz-2025.2 scikit-learn-1.3.2 scipy-1.10.1 seaborn-0.13.2 threadpoolctl-3.5.0 tzdata-2025.2\n"
     ]
    }
   ],
   "source": [
    "!pip install pandas numpy scikit-learn matplotlib seaborn"
   ]
  },
  {
   "cell_type": "code",
   "execution_count": 3,
   "metadata": {},
   "outputs": [],
   "source": [
    "import pandas as pd\n",
    "import numpy as np\n",
    "import matplotlib.pyplot as plt\n",
    "import seaborn as sns\n",
    "from sklearn.model_selection import train_test_split, cross_val_score\n",
    "from sklearn.metrics import classification_report, confusion_matrix\n",
    "import joblib\n",
    "import os\n",
    "import sys\n",
    "sys.path.append('../src')\n",
    "\n",
    "from random_forest_classifier import RandomForestClassifier\n",
    "from svm_classifier import SVMClassifier\n",
    "from naive_bayes_classifier import NaiveBayesClassifier"
   ]
  },
  {
   "cell_type": "markdown",
   "metadata": {},
   "source": [
    "## 2. Data Loading and Exploration"
   ]
  },
  {
   "cell_type": "code",
   "execution_count": 4,
   "metadata": {},
   "outputs": [
    {
     "name": "stdout",
     "output_type": "stream",
     "text": [
      "Dataset shape: (2277, 3)\n",
      "\n",
      "Columns: ['Unnamed: 0', 'Job Title', 'Job Description']\n",
      "\n",
      "First few rows:\n"
     ]
    },
    {
     "data": {
      "text/html": [
       "<div>\n",
       "<style scoped>\n",
       "    .dataframe tbody tr th:only-of-type {\n",
       "        vertical-align: middle;\n",
       "    }\n",
       "\n",
       "    .dataframe tbody tr th {\n",
       "        vertical-align: top;\n",
       "    }\n",
       "\n",
       "    .dataframe thead th {\n",
       "        text-align: right;\n",
       "    }\n",
       "</style>\n",
       "<table border=\"1\" class=\"dataframe\">\n",
       "  <thead>\n",
       "    <tr style=\"text-align: right;\">\n",
       "      <th></th>\n",
       "      <th>Unnamed: 0</th>\n",
       "      <th>Job Title</th>\n",
       "      <th>Job Description</th>\n",
       "    </tr>\n",
       "  </thead>\n",
       "  <tbody>\n",
       "    <tr>\n",
       "      <th>0</th>\n",
       "      <td>0</td>\n",
       "      <td>Flutter Developer</td>\n",
       "      <td>We are looking for hire experts flutter develo...</td>\n",
       "    </tr>\n",
       "    <tr>\n",
       "      <th>1</th>\n",
       "      <td>1</td>\n",
       "      <td>Django Developer</td>\n",
       "      <td>PYTHON/DJANGO (Developer/Lead) - Job Code(PDJ ...</td>\n",
       "    </tr>\n",
       "    <tr>\n",
       "      <th>2</th>\n",
       "      <td>2</td>\n",
       "      <td>Machine Learning</td>\n",
       "      <td>Data Scientist (Contractor)\\n\\nBangalore, IN\\n...</td>\n",
       "    </tr>\n",
       "    <tr>\n",
       "      <th>3</th>\n",
       "      <td>3</td>\n",
       "      <td>iOS Developer</td>\n",
       "      <td>JOB DESCRIPTION:\\n\\nStrong framework outside o...</td>\n",
       "    </tr>\n",
       "    <tr>\n",
       "      <th>4</th>\n",
       "      <td>4</td>\n",
       "      <td>Full Stack Developer</td>\n",
       "      <td>job responsibility full stack engineer – react...</td>\n",
       "    </tr>\n",
       "  </tbody>\n",
       "</table>\n",
       "</div>"
      ],
      "text/plain": [
       "   Unnamed: 0             Job Title  \\\n",
       "0           0     Flutter Developer   \n",
       "1           1      Django Developer   \n",
       "2           2      Machine Learning   \n",
       "3           3         iOS Developer   \n",
       "4           4  Full Stack Developer   \n",
       "\n",
       "                                     Job Description  \n",
       "0  We are looking for hire experts flutter develo...  \n",
       "1  PYTHON/DJANGO (Developer/Lead) - Job Code(PDJ ...  \n",
       "2  Data Scientist (Contractor)\\n\\nBangalore, IN\\n...  \n",
       "3  JOB DESCRIPTION:\\n\\nStrong framework outside o...  \n",
       "4  job responsibility full stack engineer – react...  "
      ]
     },
     "execution_count": 4,
     "metadata": {},
     "output_type": "execute_result"
    }
   ],
   "source": [
    "# Load the raw dataset\n",
    "df = pd.read_csv('../data/job_title_des.csv')\n",
    "print(\"Dataset shape:\", df.shape)\n",
    "print(\"\\nColumns:\", df.columns.tolist())\n",
    "print(\"\\nFirst few rows:\")\n",
    "df.head()"
   ]
  },
  {
   "cell_type": "code",
   "execution_count": 9,
   "metadata": {},
   "outputs": [
    {
     "name": "stdout",
     "output_type": "stream",
     "text": [
      "Missing values:\n"
     ]
    },
    {
     "data": {
      "text/plain": [
       "Unnamed: 0         0\n",
       "Job Title          0\n",
       "Job Description    0\n",
       "dtype: int64"
      ]
     },
     "execution_count": 9,
     "metadata": {},
     "output_type": "execute_result"
    }
   ],
   "source": [
    "# Check for missing values\n",
    "print(\"Missing values:\")\n",
    "df.isnull().sum()"
   ]
  },
  {
   "cell_type": "code",
   "execution_count": 10,
   "metadata": {},
   "outputs": [
    {
     "data": {
      "image/png": "[encoded data removed]",
      "text/plain": [
       "<Figure size 1200x600 with 1 Axes>"
      ]
     },
     "metadata": {},
     "output_type": "display_data"
    }
   ],
   "source": [
    "# Analyze job title distribution\n",
    "plt.figure(figsize=(12, 6))\n",
    "df['Job Title'].value_counts().head(20).plot(kind='bar')\n",
    "plt.title('Top 20 Job Titles')\n",
    "plt.xlabel('Job Title')\n",
    "plt.ylabel('Count')\n",
    "plt.xticks(rotation=45, ha='right')\n",
    "plt.tight_layout()\n",
    "plt.show()"
   ]
  },
  {
   "cell_type": "code",
   "execution_count": 5,
   "metadata": {},
   "outputs": [
    {
     "data": {
      "text/plain": [
       "Job Title\n",
       "JavaScript Developer      166\n",
       "Java Developer            161\n",
       "Software Engineer         160\n",
       "Node js developer         160\n",
       "iOS Developer             159\n",
       "PHP Developer             156\n",
       "Flutter Developer         155\n",
       "DevOps Engineer           155\n",
       "Django Developer          152\n",
       "Machine Learning          152\n",
       "Backend Developer         147\n",
       "Network Administrator     145\n",
       "Database Administrator    139\n",
       "Full Stack Developer      138\n",
       "Wordpress Developer       132\n",
       "Name: count, dtype: int64"
      ]
     },
     "execution_count": 5,
     "metadata": {},
     "output_type": "execute_result"
    }
   ],
   "source": [
    "df['Job Title'].value_counts()"
   ]
  },
  {
   "cell_type": "markdown",
   "metadata": {},
   "source": [
    "## 3. Data Preprocessing"
   ]
  },
  {
   "cell_type": "code",
   "execution_count": 2,
   "metadata": {},
   "outputs": [
    {
     "name": "stdout",
     "output_type": "stream",
     "text": [
      "Requirement already satisfied: nltk in c:\\users\\komal\\anaconda3\\envs\\job_recommendation\\lib\\site-packages (3.9.1)\n",
      "Requirement already satisfied: click in c:\\users\\komal\\anaconda3\\envs\\job_recommendation\\lib\\site-packages (from nltk) (8.1.8)\n",
      "Requirement already satisfied: joblib in c:\\users\\komal\\anaconda3\\envs\\job_recommendation\\lib\\site-packages (from nltk) (1.4.2)\n",
      "Requirement already satisfied: regex>=2021.8.3 in c:\\users\\komal\\anaconda3\\envs\\job_recommendation\\lib\\site-packages (from nltk) (2024.11.6)\n",
      "Requirement already satisfied: tqdm in c:\\users\\komal\\anaconda3\\envs\\job_recommendation\\lib\\site-packages (from nltk) (4.67.1)\n",
      "Requirement already satisfied: colorama in c:\\users\\komal\\anaconda3\\envs\\job_recommendation\\lib\\site-packages (from click->nltk) (0.4.6)\n"
     ]
    }
   ],
   "source": [
    "!pip install nltk"
   ]
  },
  {
   "cell_type": "code",
   "execution_count": 3,
   "metadata": {},
   "outputs": [
    {
     "name": "stdout",
     "output_type": "stream",
     "text": [
      "Requirement already satisfied: imbalanced-learn in c:\\users\\komal\\anaconda3\\envs\\job_recommendation\\lib\\site-packages (0.12.4)\n",
      "Requirement already satisfied: numpy>=1.17.3 in c:\\users\\komal\\anaconda3\\envs\\job_recommendation\\lib\\site-packages (from imbalanced-learn) (1.24.4)\n",
      "Requirement already satisfied: scipy>=1.5.0 in c:\\users\\komal\\anaconda3\\envs\\job_recommendation\\lib\\site-packages (from imbalanced-learn) (1.10.1)\n",
      "Requirement already satisfied: scikit-learn>=1.0.2 in c:\\users\\komal\\anaconda3\\envs\\job_recommendation\\lib\\site-packages (from imbalanced-learn) (1.3.2)\n",
      "Requirement already satisfied: joblib>=1.1.1 in c:\\users\\komal\\anaconda3\\envs\\job_recommendation\\lib\\site-packages (from imbalanced-learn) (1.4.2)\n",
      "Requirement already satisfied: threadpoolctl>=2.0.0 in c:\\users\\komal\\anaconda3\\envs\\job_recommendation\\lib\\site-packages (from imbalanced-learn) (3.5.0)\n"
     ]
    }
   ],
   "source": [
    "!pip install imbalanced-learn"
   ]
  },
  {
   "cell_type": "code",
   "execution_count": 4,
   "metadata": {},
   "outputs": [
    {
     "name": "stderr",
     "output_type": "stream",
     "text": [
      "[nltk_data] Downloading package punkt to C:\\Users\\Komal\n",
      "[nltk_data]     Patil\\AppData\\Roaming\\nltk_data...\n",
      "[nltk_data]   Package punkt is already up-to-date!\n",
      "[nltk_data] Downloading package stopwords to C:\\Users\\Komal\n",
      "[nltk_data]     Patil\\AppData\\Roaming\\nltk_data...\n",
      "[nltk_data]   Package stopwords is already up-to-date!\n",
      "[nltk_data] Downloading package wordnet to C:\\Users\\Komal\n",
      "[nltk_data]     Patil\\AppData\\Roaming\\nltk_data...\n",
      "[nltk_data]   Package wordnet is already up-to-date!\n"
     ]
    },
    {
     "data": {
      "text/plain": [
       "True"
      ]
     },
     "execution_count": 4,
     "metadata": {},
     "output_type": "execute_result"
    }
   ],
   "source": [
    "# Download required NLTK data\n",
    "import nltk\n",
    "nltk.download('punkt')\n",
    "nltk.download('stopwords')\n",
    "nltk.download('wordnet')"
   ]
  },
  {
   "cell_type": "code",
   "execution_count": 15,
   "metadata": {},
   "outputs": [
    {
     "name": "stderr",
     "output_type": "stream",
     "text": [
      "[nltk_data] Downloading package punkt to C:\\Users\\Komal\n",
      "[nltk_data]     Patil\\AppData\\Roaming\\nltk_data...\n",
      "[nltk_data]   Package punkt is already up-to-date!\n",
      "[nltk_data] Downloading package stopwords to C:\\Users\\Komal\n",
      "[nltk_data]     Patil\\AppData\\Roaming\\nltk_data...\n",
      "[nltk_data]   Package stopwords is already up-to-date!\n",
      "[nltk_data] Downloading package wordnet to C:\\Users\\Komal\n",
      "[nltk_data]     Patil\\AppData\\Roaming\\nltk_data...\n",
      "[nltk_data]   Package wordnet is already up-to-date!\n"
     ]
    },
    {
     "name": "stdout",
     "output_type": "stream",
     "text": [
      "Using text column: 'Job Description' and label column: 'Job Title'\n",
      "Standardizing job titles...\n",
      "Cleaning text data...\n",
      "Preprocessed data saved to artifacts/preprocessed_data.csv\n",
      "\n",
      "Distribution of sampled data:\n",
      "standardized_title\n",
      "javascript developer    166\n",
      "java developer          161\n",
      "software engineer       160\n",
      "node js developer       160\n",
      "ios developer           159\n",
      "php developer           156\n",
      "flutter developer       155\n",
      "devops engineer         155\n",
      "django developer        152\n",
      "machine learning        152\n",
      "Name: count, dtype: int64\n",
      "Processed dataset shape: (1576, 5)\n",
      "\n",
      "Processed data sample:\n"
     ]
    },
    {
     "data": {
      "text/html": [
       "<div>\n",
       "<style scoped>\n",
       "    .dataframe tbody tr th:only-of-type {\n",
       "        vertical-align: middle;\n",
       "    }\n",
       "\n",
       "    .dataframe tbody tr th {\n",
       "        vertical-align: top;\n",
       "    }\n",
       "\n",
       "    .dataframe thead th {\n",
       "        text-align: right;\n",
       "    }\n",
       "</style>\n",
       "<table border=\"1\" class=\"dataframe\">\n",
       "  <thead>\n",
       "    <tr style=\"text-align: right;\">\n",
       "      <th></th>\n",
       "      <th>Unnamed: 0</th>\n",
       "      <th>Job Title</th>\n",
       "      <th>Job Description</th>\n",
       "      <th>standardized_title</th>\n",
       "      <th>cleaned_text</th>\n",
       "    </tr>\n",
       "  </thead>\n",
       "  <tbody>\n",
       "    <tr>\n",
       "      <th>7</th>\n",
       "      <td>7</td>\n",
       "      <td>JavaScript Developer</td>\n",
       "      <td>Job Description:\\n\\nReactJS + NodeJs, Azure Fu...</td>\n",
       "      <td>javascript developer</td>\n",
       "      <td>description reactjs nodejs azure function grap...</td>\n",
       "    </tr>\n",
       "    <tr>\n",
       "      <th>22</th>\n",
       "      <td>23</td>\n",
       "      <td>JavaScript Developer</td>\n",
       "      <td>MonetizeMore builds industry leading ad techno...</td>\n",
       "      <td>javascript developer</td>\n",
       "      <td>monetizemore build industry leading technology...</td>\n",
       "    </tr>\n",
       "    <tr>\n",
       "      <th>29</th>\n",
       "      <td>30</td>\n",
       "      <td>JavaScript Developer</td>\n",
       "      <td>No relocation needed, can telework from home, ...</td>\n",
       "      <td>javascript developer</td>\n",
       "      <td>relocation telework home good internet tekgile...</td>\n",
       "    </tr>\n",
       "    <tr>\n",
       "      <th>61</th>\n",
       "      <td>62</td>\n",
       "      <td>JavaScript Developer</td>\n",
       "      <td>Javascript developers\\n\\nAs a javascript devel...</td>\n",
       "      <td>javascript developer</td>\n",
       "      <td>javascript developer javascript developer resp...</td>\n",
       "    </tr>\n",
       "    <tr>\n",
       "      <th>63</th>\n",
       "      <td>64</td>\n",
       "      <td>JavaScript Developer</td>\n",
       "      <td>Product Operations Specialist\\n\\n\\nThe Product...</td>\n",
       "      <td>javascript developer</td>\n",
       "      <td>product operation specialist product team lead...</td>\n",
       "    </tr>\n",
       "  </tbody>\n",
       "</table>\n",
       "</div>"
      ],
      "text/plain": [
       "    Unnamed: 0             Job Title  \\\n",
       "7            7  JavaScript Developer   \n",
       "22          23  JavaScript Developer   \n",
       "29          30  JavaScript Developer   \n",
       "61          62  JavaScript Developer   \n",
       "63          64  JavaScript Developer   \n",
       "\n",
       "                                      Job Description    standardized_title  \\\n",
       "7   Job Description:\\n\\nReactJS + NodeJs, Azure Fu...  javascript developer   \n",
       "22  MonetizeMore builds industry leading ad techno...  javascript developer   \n",
       "29  No relocation needed, can telework from home, ...  javascript developer   \n",
       "61  Javascript developers\\n\\nAs a javascript devel...  javascript developer   \n",
       "63  Product Operations Specialist\\n\\n\\nThe Product...  javascript developer   \n",
       "\n",
       "                                         cleaned_text  \n",
       "7   description reactjs nodejs azure function grap...  \n",
       "22  monetizemore build industry leading technology...  \n",
       "29  relocation telework home good internet tekgile...  \n",
       "61  javascript developer javascript developer resp...  \n",
       "63  product operation specialist product team lead...  "
      ]
     },
     "execution_count": 15,
     "metadata": {},
     "output_type": "execute_result"
    }
   ],
   "source": [
    "from data_preprocessing import DataPreprocessor\n",
    "\n",
    "# Initialize preprocessor\n",
    "preprocessor = DataPreprocessor()\n",
    "\n",
    "# Prepare the data\n",
    "processed_df = preprocessor.prepare_data(df)\n",
    "print(\"Processed dataset shape:\", processed_df.shape)\n",
    "print(\"\\nProcessed data sample:\")\n",
    "processed_df.head()"
   ]
  },
  {
   "cell_type": "code",
   "execution_count": 16,
   "metadata": {},
   "outputs": [
    {
     "data": {
      "image/png": "[encoded data removed]",
      "text/plain": [
       "<Figure size 1200x600 with 1 Axes>"
      ]
     },
     "metadata": {},
     "output_type": "display_data"
    }
   ],
   "source": [
    "# Check the distribution after preprocessing\n",
    "plt.figure(figsize=(12, 6))\n",
    "processed_df['Job Title'].value_counts().plot(kind='bar')\n",
    "plt.title('Job Title Distribution After Preprocessing')\n",
    "plt.xlabel('Job Title')\n",
    "plt.ylabel('Count')\n",
    "plt.xticks(rotation=45, ha='right')\n",
    "plt.tight_layout()\n",
    "plt.show()"
   ]
  },
  {
   "cell_type": "code",
   "execution_count": 22,
   "metadata": {},
   "outputs": [],
   "source": [
    "from nltk.tokenize import word_tokenize\n",
    "from nltk.corpus import stopwords\n",
    "from nltk.stem import WordNetLemmatizer\n",
    "# Initialize lemmatizer and stopwords\n",
    "lemmatizer = WordNetLemmatizer()\n",
    "stop_words = set(stopwords.words('english'))\n",
    "\n",
    "# Add job-specific stopwords\n",
    "job_stopwords = {'job', 'position', 'role', 'looking', 'seeking', 'hiring', 'company', 'work', 'experience'}\n",
    "stop_words.update(job_stopwords)"
   ]
  },
  {
   "cell_type": "code",
   "execution_count": 30,
   "metadata": {},
   "outputs": [],
   "source": [
    "# Clean text function\n",
    "def clean_text(text):\n",
    "    # Convert to lowercase\n",
    "    text = text.lower()\n",
    "    \n",
    "    # Remove URLs\n",
    "    text = re.sub(r'http\\S+|www\\S+|https\\S+', '', text, flags=re.MULTILINE)\n",
    "    \n",
    "    # Remove special characters but keep hyphens\n",
    "    text = re.sub(r'[^\\w\\s-]', ' ', text)\n",
    "    \n",
    "    # Remove extra whitespace\n",
    "    text = ' '.join(text.split())\n",
    "    \n",
    "    # Tokenize and lemmatize\n",
    "    tokens = word_tokenize(text)\n",
    "    tokens = [lemmatizer.lemmatize(token) for token in tokens if token not in stop_words and len(token) > 2]\n",
    "    \n",
    "    return ' '.join(tokens)"
   ]
  },
  {
   "cell_type": "code",
   "execution_count": 31,
   "metadata": {},
   "outputs": [
    {
     "name": "stdout",
     "output_type": "stream",
     "text": [
      "Original text:\n",
      "We are looking for hire experts flutter developer. So you are eligible this post then apply your resume.\n",
      "Job Types: Full-time, Part-time\n",
      "Salary: ₹20,000.00 - ₹40,000.00 per month\n",
      "Benefits:\n",
      "Flexible sc ...\n",
      "\n",
      "Cleaned text:\n",
      "hire expert flutter developer eligible post apply resume type full-time part-time salary 000 000 per month benefit flexible schedule food allowance schedule day shift supplemental pay joining bonus ov ...\n"
     ]
    }
   ],
   "source": [
    "import re\n",
    "# Apply text cleaning\n",
    "df['cleaned_text'] = df['Job Description'].apply(clean_text)\n",
    "\n",
    "# Compare original and cleaned text\n",
    "print(\"Original text:\")\n",
    "print(df['Job Description'].iloc[0][:200], \"...\")\n",
    "print(\"\\nCleaned text:\")\n",
    "print(df['cleaned_text'].iloc[0][:200], \"...\")"
   ]
  },
  {
   "cell_type": "code",
   "execution_count": 33,
   "metadata": {},
   "outputs": [
    {
     "name": "stdout",
     "output_type": "stream",
     "text": [
      "Processed data saved successfully!\n"
     ]
    }
   ],
   "source": [
    "# Save processed data\n",
    "df.to_csv('../data/processed_job_descriptions.csv', index=False)\n",
    "print(\"Processed data saved successfully!\")"
   ]
  },
  {
   "cell_type": "markdown",
   "metadata": {},
   "source": [
    "## Load Processed data"
   ]
  },
  {
   "cell_type": "code",
   "execution_count": 34,
   "metadata": {},
   "outputs": [
    {
     "name": "stdout",
     "output_type": "stream",
     "text": [
      "Dataset shape: (2277, 5)\n",
      "\n",
      "First few rows:\n"
     ]
    },
    {
     "data": {
      "text/html": [
       "<div>\n",
       "<style scoped>\n",
       "    .dataframe tbody tr th:only-of-type {\n",
       "        vertical-align: middle;\n",
       "    }\n",
       "\n",
       "    .dataframe tbody tr th {\n",
       "        vertical-align: top;\n",
       "    }\n",
       "\n",
       "    .dataframe thead th {\n",
       "        text-align: right;\n",
       "    }\n",
       "</style>\n",
       "<table border=\"1\" class=\"dataframe\">\n",
       "  <thead>\n",
       "    <tr style=\"text-align: right;\">\n",
       "      <th></th>\n",
       "      <th>Unnamed: 0</th>\n",
       "      <th>Job Title</th>\n",
       "      <th>Job Description</th>\n",
       "      <th>standardized_title</th>\n",
       "      <th>cleaned_text</th>\n",
       "    </tr>\n",
       "  </thead>\n",
       "  <tbody>\n",
       "    <tr>\n",
       "      <th>0</th>\n",
       "      <td>0</td>\n",
       "      <td>Flutter Developer</td>\n",
       "      <td>We are looking for hire experts flutter develo...</td>\n",
       "      <td>flutter developer</td>\n",
       "      <td>hire expert flutter developer eligible post ap...</td>\n",
       "    </tr>\n",
       "    <tr>\n",
       "      <th>1</th>\n",
       "      <td>1</td>\n",
       "      <td>Django Developer</td>\n",
       "      <td>PYTHON/DJANGO (Developer/Lead) - Job Code(PDJ ...</td>\n",
       "      <td>django developer</td>\n",
       "      <td>python django developer lead code pdj strong p...</td>\n",
       "    </tr>\n",
       "    <tr>\n",
       "      <th>2</th>\n",
       "      <td>2</td>\n",
       "      <td>Machine Learning</td>\n",
       "      <td>Data Scientist (Contractor)\\n\\nBangalore, IN\\n...</td>\n",
       "      <td>machine learning</td>\n",
       "      <td>data scientist contractor bangalore responsibi...</td>\n",
       "    </tr>\n",
       "    <tr>\n",
       "      <th>3</th>\n",
       "      <td>3</td>\n",
       "      <td>iOS Developer</td>\n",
       "      <td>JOB DESCRIPTION:\\n\\nStrong framework outside o...</td>\n",
       "      <td>ios developer</td>\n",
       "      <td>description strong framework outside io always...</td>\n",
       "    </tr>\n",
       "    <tr>\n",
       "      <th>4</th>\n",
       "      <td>4</td>\n",
       "      <td>Full Stack Developer</td>\n",
       "      <td>job responsibility full stack engineer – react...</td>\n",
       "      <td>full stack developer</td>\n",
       "      <td>responsibility full stack engineer react make ...</td>\n",
       "    </tr>\n",
       "  </tbody>\n",
       "</table>\n",
       "</div>"
      ],
      "text/plain": [
       "   Unnamed: 0             Job Title  \\\n",
       "0           0     Flutter Developer   \n",
       "1           1      Django Developer   \n",
       "2           2      Machine Learning   \n",
       "3           3         iOS Developer   \n",
       "4           4  Full Stack Developer   \n",
       "\n",
       "                                     Job Description    standardized_title  \\\n",
       "0  We are looking for hire experts flutter develo...     flutter developer   \n",
       "1  PYTHON/DJANGO (Developer/Lead) - Job Code(PDJ ...      django developer   \n",
       "2  Data Scientist (Contractor)\\n\\nBangalore, IN\\n...      machine learning   \n",
       "3  JOB DESCRIPTION:\\n\\nStrong framework outside o...         ios developer   \n",
       "4  job responsibility full stack engineer – react...  full stack developer   \n",
       "\n",
       "                                        cleaned_text  \n",
       "0  hire expert flutter developer eligible post ap...  \n",
       "1  python django developer lead code pdj strong p...  \n",
       "2  data scientist contractor bangalore responsibi...  \n",
       "3  description strong framework outside io always...  \n",
       "4  responsibility full stack engineer react make ...  "
      ]
     },
     "execution_count": 34,
     "metadata": {},
     "output_type": "execute_result"
    }
   ],
   "source": [
    "# Load processed data\n",
    "df = pd.read_csv('../data/processed_job_descriptions.csv')\n",
    "\n",
    "# Display basic information\n",
    "print(\"Dataset shape:\", df.shape)\n",
    "print(\"\\nFirst few rows:\")\n",
    "df.head()"
   ]
  },
  {
   "cell_type": "markdown",
   "metadata": {},
   "source": [
    "## Prepare data for training"
   ]
  },
  {
   "cell_type": "code",
   "execution_count": 35,
   "metadata": {},
   "outputs": [
    {
     "name": "stdout",
     "output_type": "stream",
     "text": [
      "Training set size: 1821\n",
      "Testing set size: 456\n"
     ]
    }
   ],
   "source": [
    "# Split data into training and testing sets\n",
    "X = df['cleaned_text']\n",
    "y = df['Job Title']\n",
    "\n",
    "X_train, X_test, y_train, y_test = train_test_split(X, y, test_size=0.2, random_state=42, stratify=y)\n",
    "\n",
    "print(\"Training set size:\", len(X_train))\n",
    "print(\"Testing set size:\", len(X_test))"
   ]
  },
  {
   "cell_type": "markdown",
   "metadata": {},
   "source": [
    "## 4. Model Training and Evaluation"
   ]
  },
  {
   "cell_type": "markdown",
   "metadata": {},
   "source": [
    "### 4.1 Random Forest Classifier"
   ]
  },
  {
   "cell_type": "code",
   "execution_count": 72,
   "metadata": {},
   "outputs": [],
   "source": [
    "from sklearn.pipeline import Pipeline\n",
    "from sklearn.feature_extraction.text import TfidfVectorizer\n",
    "# Create pipeline\n",
    "pipeline = Pipeline([\n",
    "    ('tfidf', TfidfVectorizer(\n",
    "        max_features=10000,\n",
    "        ngram_range=(1, 2),\n",
    "        min_df=2,\n",
    "        max_df=0.95\n",
    "    )),\n",
    "    ('clf', RandomForestClassifier(\n",
    "        n_estimators=200,\n",
    "        max_depth=50,\n",
    "        random_state=42\n",
    "    ))\n",
    "])"
   ]
  },
  {
   "cell_type": "code",
   "execution_count": 73,
   "metadata": {},
   "outputs": [
    {
     "name": "stdout",
     "output_type": "stream",
     "text": [
      "Model training completed!\n"
     ]
    }
   ],
   "source": [
    "# Train the model\n",
    "pipeline.fit(X_train, y_train)\n",
    "print(\"Model training completed!\")"
   ]
  },
  {
   "cell_type": "code",
   "execution_count": 74,
   "metadata": {},
   "outputs": [
    {
     "name": "stdout",
     "output_type": "stream",
     "text": [
      "Classification Report Random forest:\n",
      "                        precision    recall  f1-score   support\n",
      "\n",
      "     Backend Developer       0.94      0.52      0.67        29\n",
      "Database Administrator       0.90      0.96      0.93        28\n",
      "       DevOps Engineer       0.88      0.97      0.92        31\n",
      "      Django Developer       0.90      0.87      0.89        31\n",
      "     Flutter Developer       0.84      1.00      0.91        31\n",
      "  Full Stack Developer       0.78      0.75      0.76        28\n",
      "        Java Developer       0.61      0.59      0.60        32\n",
      "  JavaScript Developer       0.84      0.79      0.81        33\n",
      "      Machine Learning       0.88      0.94      0.91        31\n",
      " Network Administrator       0.87      0.93      0.90        29\n",
      "     Node js developer       0.83      0.91      0.87        32\n",
      "         PHP Developer       0.96      0.81      0.88        31\n",
      "     Software Engineer       0.48      0.50      0.49        32\n",
      "   Wordpress Developer       0.87      1.00      0.93        26\n",
      "         iOS Developer       0.97      0.97      0.97        32\n",
      "\n",
      "              accuracy                           0.83       456\n",
      "             macro avg       0.84      0.83      0.83       456\n",
      "          weighted avg       0.83      0.83      0.83       456\n",
      "\n"
     ]
    }
   ],
   "source": [
    "# Make predictions\n",
    "y_pred = pipeline.predict(X_test)\n",
    "\n",
    "# Print classification report\n",
    "print(\"Classification Report Random forest:\")\n",
    "print(classification_report(y_test, y_pred))"
   ]
  },
  {
   "cell_type": "markdown",
   "metadata": {},
   "source": [
    "### 4.2 SVM Classifier"
   ]
  },
  {
   "cell_type": "code",
   "execution_count": 69,
   "metadata": {},
   "outputs": [],
   "source": [
    "from sklearn.svm import SVC\n",
    "from sklearn.pipeline import Pipeline\n",
    "from sklearn.feature_extraction.text import TfidfVectorizer\n",
    "\n",
    "svm_pipeline = Pipeline([\n",
    "    ('tfidf', TfidfVectorizer(\n",
    "        max_features=10000,\n",
    "        ngram_range=(1, 2),\n",
    "        min_df=2,\n",
    "        max_df=0.95\n",
    "    )),\n",
    "    ('clf', SVC(\n",
    "        kernel='linear',  # or 'rbf' if you want non-linear\n",
    "        C=1.0,\n",
    "        random_state=42,\n",
    "        class_weight='balanced'\n",
    "    ))\n",
    "])\n"
   ]
  },
  {
   "cell_type": "code",
   "execution_count": 70,
   "metadata": {},
   "outputs": [
    {
     "data": {
      "text/html": [
       "<style>#sk-container-id-6 {color: black;}#sk-container-id-6 pre{padding: 0;}#sk-container-id-6 div.sk-toggleable {background-color: white;}#sk-container-id-6 label.sk-toggleable__label {cursor: pointer;display: block;width: 100%;margin-bottom: 0;padding: 0.3em;box-sizing: border-box;text-align: center;}#sk-container-id-6 label.sk-toggleable__label-arrow:before {content: \"▸\";float: left;margin-right: 0.25em;color: #696969;}#sk-container-id-6 label.sk-toggleable__label-arrow:hover:before {color: black;}#sk-container-id-6 div.sk-estimator:hover label.sk-toggleable__label-arrow:before {color: black;}#sk-container-id-6 div.sk-toggleable__content {max-height: 0;max-width: 0;overflow: hidden;text-align: left;background-color: #f0f8ff;}#sk-container-id-6 div.sk-toggleable__content pre {margin: 0.2em;color: black;border-radius: 0.25em;background-color: #f0f8ff;}#sk-container-id-6 input.sk-toggleable__control:checked~div.sk-toggleable__content {max-height: 200px;max-width: 100%;overflow: auto;}#sk-container-id-6 input.sk-toggleable__control:checked~label.sk-toggleable__label-arrow:before {content: \"▾\";}#sk-container-id-6 div.sk-estimator input.sk-toggleable__control:checked~label.sk-toggleable__label {background-color: #d4ebff;}#sk-container-id-6 div.sk-label input.sk-toggleable__control:checked~label.sk-toggleable__label {background-color: #d4ebff;}#sk-container-id-6 input.sk-hidden--visually {border: 0;clip: rect(1px 1px 1px 1px);clip: rect(1px, 1px, 1px, 1px);height: 1px;margin: -1px;overflow: hidden;padding: 0;position: absolute;width: 1px;}#sk-container-id-6 div.sk-estimator {font-family: monospace;background-color: #f0f8ff;border: 1px dotted black;border-radius: 0.25em;box-sizing: border-box;margin-bottom: 0.5em;}#sk-container-id-6 div.sk-estimator:hover {background-color: #d4ebff;}#sk-container-id-6 div.sk-parallel-item::after {content: \"\";width: 100%;border-bottom: 1px solid gray;flex-grow: 1;}#sk-container-id-6 div.sk-label:hover label.sk-toggleable__label {background-color: #d4ebff;}#sk-container-id-6 div.sk-serial::before {content: \"\";position: absolute;border-left: 1px solid gray;box-sizing: border-box;top: 0;bottom: 0;left: 50%;z-index: 0;}#sk-container-id-6 div.sk-serial {display: flex;flex-direction: column;align-items: center;background-color: white;padding-right: 0.2em;padding-left: 0.2em;position: relative;}#sk-container-id-6 div.sk-item {position: relative;z-index: 1;}#sk-container-id-6 div.sk-parallel {display: flex;align-items: stretch;justify-content: center;background-color: white;position: relative;}#sk-container-id-6 div.sk-item::before, #sk-container-id-6 div.sk-parallel-item::before {content: \"\";position: absolute;border-left: 1px solid gray;box-sizing: border-box;top: 0;bottom: 0;left: 50%;z-index: -1;}#sk-container-id-6 div.sk-parallel-item {display: flex;flex-direction: column;z-index: 1;position: relative;background-color: white;}#sk-container-id-6 div.sk-parallel-item:first-child::after {align-self: flex-end;width: 50%;}#sk-container-id-6 div.sk-parallel-item:last-child::after {align-self: flex-start;width: 50%;}#sk-container-id-6 div.sk-parallel-item:only-child::after {width: 0;}#sk-container-id-6 div.sk-dashed-wrapped {border: 1px dashed gray;margin: 0 0.4em 0.5em 0.4em;box-sizing: border-box;padding-bottom: 0.4em;background-color: white;}#sk-container-id-6 div.sk-label label {font-family: monospace;font-weight: bold;display: inline-block;line-height: 1.2em;}#sk-container-id-6 div.sk-label-container {text-align: center;}#sk-container-id-6 div.sk-container {/* jupyter's `normalize.less` sets `[hidden] { display: none; }` but bootstrap.min.css set `[hidden] { display: none !important; }` so we also need the `!important` here to be able to override the default hidden behavior on the sphinx rendered scikit-learn.org. See: https://github.com/scikit-learn/scikit-learn/issues/21755 */display: inline-block !important;position: relative;}#sk-container-id-6 div.sk-text-repr-fallback {display: none;}</style><div id=\"sk-container-id-6\" class=\"sk-top-container\"><div class=\"sk-text-repr-fallback\"><pre>Pipeline(steps=[(&#x27;tfidf&#x27;,\n",
       "                 TfidfVectorizer(max_df=0.95, max_features=10000, min_df=2,\n",
       "                                 ngram_range=(1, 2))),\n",
       "                (&#x27;clf&#x27;,\n",
       "                 SVC(class_weight=&#x27;balanced&#x27;, kernel=&#x27;linear&#x27;,\n",
       "                     random_state=42))])</pre><b>In a Jupyter environment, please rerun this cell to show the HTML representation or trust the notebook. <br />On GitHub, the HTML representation is unable to render, please try loading this page with nbviewer.org.</b></div><div class=\"sk-container\" hidden><div class=\"sk-item sk-dashed-wrapped\"><div class=\"sk-label-container\"><div class=\"sk-label sk-toggleable\"><input class=\"sk-toggleable__control sk-hidden--visually\" id=\"sk-estimator-id-16\" type=\"checkbox\" ><label for=\"sk-estimator-id-16\" class=\"sk-toggleable__label sk-toggleable__label-arrow\">Pipeline</label><div class=\"sk-toggleable__content\"><pre>Pipeline(steps=[(&#x27;tfidf&#x27;,\n",
       "                 TfidfVectorizer(max_df=0.95, max_features=10000, min_df=2,\n",
       "                                 ngram_range=(1, 2))),\n",
       "                (&#x27;clf&#x27;,\n",
       "                 SVC(class_weight=&#x27;balanced&#x27;, kernel=&#x27;linear&#x27;,\n",
       "                     random_state=42))])</pre></div></div></div><div class=\"sk-serial\"><div class=\"sk-item\"><div class=\"sk-estimator sk-toggleable\"><input class=\"sk-toggleable__control sk-hidden--visually\" id=\"sk-estimator-id-17\" type=\"checkbox\" ><label for=\"sk-estimator-id-17\" class=\"sk-toggleable__label sk-toggleable__label-arrow\">TfidfVectorizer</label><div class=\"sk-toggleable__content\"><pre>TfidfVectorizer(max_df=0.95, max_features=10000, min_df=2, ngram_range=(1, 2))</pre></div></div></div><div class=\"sk-item\"><div class=\"sk-estimator sk-toggleable\"><input class=\"sk-toggleable__control sk-hidden--visually\" id=\"sk-estimator-id-18\" type=\"checkbox\" ><label for=\"sk-estimator-id-18\" class=\"sk-toggleable__label sk-toggleable__label-arrow\">SVC</label><div class=\"sk-toggleable__content\"><pre>SVC(class_weight=&#x27;balanced&#x27;, kernel=&#x27;linear&#x27;, random_state=42)</pre></div></div></div></div></div></div></div>"
      ],
      "text/plain": [
       "Pipeline(steps=[('tfidf',\n",
       "                 TfidfVectorizer(max_df=0.95, max_features=10000, min_df=2,\n",
       "                                 ngram_range=(1, 2))),\n",
       "                ('clf',\n",
       "                 SVC(class_weight='balanced', kernel='linear',\n",
       "                     random_state=42))])"
      ]
     },
     "execution_count": 70,
     "metadata": {},
     "output_type": "execute_result"
    }
   ],
   "source": [
    "svm_pipeline.fit(X_train, y_train)\n"
   ]
  },
  {
   "cell_type": "code",
   "execution_count": 71,
   "metadata": {},
   "outputs": [
    {
     "name": "stdout",
     "output_type": "stream",
     "text": [
      "Classification Report SVM:\n",
      "                        precision    recall  f1-score   support\n",
      "\n",
      "     Backend Developer       0.54      0.69      0.61        29\n",
      "Database Administrator       0.93      0.93      0.93        28\n",
      "       DevOps Engineer       0.97      0.94      0.95        31\n",
      "      Django Developer       0.93      0.81      0.86        31\n",
      "     Flutter Developer       0.94      0.94      0.94        31\n",
      "  Full Stack Developer       0.79      0.79      0.79        28\n",
      "        Java Developer       0.70      0.72      0.71        32\n",
      "  JavaScript Developer       0.87      0.79      0.83        33\n",
      "      Machine Learning       1.00      0.87      0.93        31\n",
      " Network Administrator       1.00      0.90      0.95        29\n",
      "     Node js developer       0.86      0.78      0.82        32\n",
      "         PHP Developer       0.86      0.81      0.83        31\n",
      "     Software Engineer       0.51      0.75      0.61        32\n",
      "   Wordpress Developer       0.92      0.88      0.90        26\n",
      "         iOS Developer       1.00      0.91      0.95        32\n",
      "\n",
      "              accuracy                           0.83       456\n",
      "             macro avg       0.85      0.83      0.84       456\n",
      "          weighted avg       0.85      0.83      0.84       456\n",
      "\n"
     ]
    }
   ],
   "source": [
    "# Make predictions\n",
    "y_pred = svm_pipeline.predict(X_test)\n",
    "\n",
    "# Print classification report\n",
    "print(\"Classification Report SVM:\")\n",
    "print(classification_report(y_test, y_pred))"
   ]
  },
  {
   "cell_type": "markdown",
   "metadata": {},
   "source": [
    "### 4.3 Naive Bayes Classifier"
   ]
  },
  {
   "cell_type": "code",
   "execution_count": 81,
   "metadata": {},
   "outputs": [],
   "source": [
    "from sklearn.naive_bayes import MultinomialNB\n",
    "\n",
    "nb_pipeline = Pipeline([\n",
    "    ('tfidf', TfidfVectorizer(\n",
    "        max_features=1000,\n",
    "        ngram_range=(1, 2),\n",
    "        min_df=2,\n",
    "        max_df=0.95\n",
    "    )),\n",
    "    ('clf', MultinomialNB())\n",
    "])"
   ]
  },
  {
   "cell_type": "code",
   "execution_count": 82,
   "metadata": {},
   "outputs": [
    {
     "data": {
      "text/html": [
       "<style>#sk-container-id-9 {color: black;}#sk-container-id-9 pre{padding: 0;}#sk-container-id-9 div.sk-toggleable {background-color: white;}#sk-container-id-9 label.sk-toggleable__label {cursor: pointer;display: block;width: 100%;margin-bottom: 0;padding: 0.3em;box-sizing: border-box;text-align: center;}#sk-container-id-9 label.sk-toggleable__label-arrow:before {content: \"▸\";float: left;margin-right: 0.25em;color: #696969;}#sk-container-id-9 label.sk-toggleable__label-arrow:hover:before {color: black;}#sk-container-id-9 div.sk-estimator:hover label.sk-toggleable__label-arrow:before {color: black;}#sk-container-id-9 div.sk-toggleable__content {max-height: 0;max-width: 0;overflow: hidden;text-align: left;background-color: #f0f8ff;}#sk-container-id-9 div.sk-toggleable__content pre {margin: 0.2em;color: black;border-radius: 0.25em;background-color: #f0f8ff;}#sk-container-id-9 input.sk-toggleable__control:checked~div.sk-toggleable__content {max-height: 200px;max-width: 100%;overflow: auto;}#sk-container-id-9 input.sk-toggleable__control:checked~label.sk-toggleable__label-arrow:before {content: \"▾\";}#sk-container-id-9 div.sk-estimator input.sk-toggleable__control:checked~label.sk-toggleable__label {background-color: #d4ebff;}#sk-container-id-9 div.sk-label input.sk-toggleable__control:checked~label.sk-toggleable__label {background-color: #d4ebff;}#sk-container-id-9 input.sk-hidden--visually {border: 0;clip: rect(1px 1px 1px 1px);clip: rect(1px, 1px, 1px, 1px);height: 1px;margin: -1px;overflow: hidden;padding: 0;position: absolute;width: 1px;}#sk-container-id-9 div.sk-estimator {font-family: monospace;background-color: #f0f8ff;border: 1px dotted black;border-radius: 0.25em;box-sizing: border-box;margin-bottom: 0.5em;}#sk-container-id-9 div.sk-estimator:hover {background-color: #d4ebff;}#sk-container-id-9 div.sk-parallel-item::after {content: \"\";width: 100%;border-bottom: 1px solid gray;flex-grow: 1;}#sk-container-id-9 div.sk-label:hover label.sk-toggleable__label {background-color: #d4ebff;}#sk-container-id-9 div.sk-serial::before {content: \"\";position: absolute;border-left: 1px solid gray;box-sizing: border-box;top: 0;bottom: 0;left: 50%;z-index: 0;}#sk-container-id-9 div.sk-serial {display: flex;flex-direction: column;align-items: center;background-color: white;padding-right: 0.2em;padding-left: 0.2em;position: relative;}#sk-container-id-9 div.sk-item {position: relative;z-index: 1;}#sk-container-id-9 div.sk-parallel {display: flex;align-items: stretch;justify-content: center;background-color: white;position: relative;}#sk-container-id-9 div.sk-item::before, #sk-container-id-9 div.sk-parallel-item::before {content: \"\";position: absolute;border-left: 1px solid gray;box-sizing: border-box;top: 0;bottom: 0;left: 50%;z-index: -1;}#sk-container-id-9 div.sk-parallel-item {display: flex;flex-direction: column;z-index: 1;position: relative;background-color: white;}#sk-container-id-9 div.sk-parallel-item:first-child::after {align-self: flex-end;width: 50%;}#sk-container-id-9 div.sk-parallel-item:last-child::after {align-self: flex-start;width: 50%;}#sk-container-id-9 div.sk-parallel-item:only-child::after {width: 0;}#sk-container-id-9 div.sk-dashed-wrapped {border: 1px dashed gray;margin: 0 0.4em 0.5em 0.4em;box-sizing: border-box;padding-bottom: 0.4em;background-color: white;}#sk-container-id-9 div.sk-label label {font-family: monospace;font-weight: bold;display: inline-block;line-height: 1.2em;}#sk-container-id-9 div.sk-label-container {text-align: center;}#sk-container-id-9 div.sk-container {/* jupyter's `normalize.less` sets `[hidden] { display: none; }` but bootstrap.min.css set `[hidden] { display: none !important; }` so we also need the `!important` here to be able to override the default hidden behavior on the sphinx rendered scikit-learn.org. See: https://github.com/scikit-learn/scikit-learn/issues/21755 */display: inline-block !important;position: relative;}#sk-container-id-9 div.sk-text-repr-fallback {display: none;}</style><div id=\"sk-container-id-9\" class=\"sk-top-container\"><div class=\"sk-text-repr-fallback\"><pre>Pipeline(steps=[(&#x27;tfidf&#x27;,\n",
       "                 TfidfVectorizer(max_df=0.95, max_features=1000, min_df=2,\n",
       "                                 ngram_range=(1, 2))),\n",
       "                (&#x27;clf&#x27;, MultinomialNB())])</pre><b>In a Jupyter environment, please rerun this cell to show the HTML representation or trust the notebook. <br />On GitHub, the HTML representation is unable to render, please try loading this page with nbviewer.org.</b></div><div class=\"sk-container\" hidden><div class=\"sk-item sk-dashed-wrapped\"><div class=\"sk-label-container\"><div class=\"sk-label sk-toggleable\"><input class=\"sk-toggleable__control sk-hidden--visually\" id=\"sk-estimator-id-25\" type=\"checkbox\" ><label for=\"sk-estimator-id-25\" class=\"sk-toggleable__label sk-toggleable__label-arrow\">Pipeline</label><div class=\"sk-toggleable__content\"><pre>Pipeline(steps=[(&#x27;tfidf&#x27;,\n",
       "                 TfidfVectorizer(max_df=0.95, max_features=1000, min_df=2,\n",
       "                                 ngram_range=(1, 2))),\n",
       "                (&#x27;clf&#x27;, MultinomialNB())])</pre></div></div></div><div class=\"sk-serial\"><div class=\"sk-item\"><div class=\"sk-estimator sk-toggleable\"><input class=\"sk-toggleable__control sk-hidden--visually\" id=\"sk-estimator-id-26\" type=\"checkbox\" ><label for=\"sk-estimator-id-26\" class=\"sk-toggleable__label sk-toggleable__label-arrow\">TfidfVectorizer</label><div class=\"sk-toggleable__content\"><pre>TfidfVectorizer(max_df=0.95, max_features=1000, min_df=2, ngram_range=(1, 2))</pre></div></div></div><div class=\"sk-item\"><div class=\"sk-estimator sk-toggleable\"><input class=\"sk-toggleable__control sk-hidden--visually\" id=\"sk-estimator-id-27\" type=\"checkbox\" ><label for=\"sk-estimator-id-27\" class=\"sk-toggleable__label sk-toggleable__label-arrow\">MultinomialNB</label><div class=\"sk-toggleable__content\"><pre>MultinomialNB()</pre></div></div></div></div></div></div></div>"
      ],
      "text/plain": [
       "Pipeline(steps=[('tfidf',\n",
       "                 TfidfVectorizer(max_df=0.95, max_features=1000, min_df=2,\n",
       "                                 ngram_range=(1, 2))),\n",
       "                ('clf', MultinomialNB())])"
      ]
     },
     "execution_count": 82,
     "metadata": {},
     "output_type": "execute_result"
    }
   ],
   "source": [
    "nb_pipeline.fit(X_train, y_train)\n"
   ]
  },
  {
   "cell_type": "code",
   "execution_count": 84,
   "metadata": {},
   "outputs": [
    {
     "name": "stdout",
     "output_type": "stream",
     "text": [
      "Classification Report NB:\n",
      "                        precision    recall  f1-score   support\n",
      "\n",
      "     Backend Developer       1.00      0.31      0.47        29\n",
      "Database Administrator       0.81      0.89      0.85        28\n",
      "       DevOps Engineer       0.86      0.97      0.91        31\n",
      "      Django Developer       0.92      0.77      0.84        31\n",
      "     Flutter Developer       0.67      0.97      0.79        31\n",
      "  Full Stack Developer       0.68      0.61      0.64        28\n",
      "        Java Developer       0.62      0.31      0.42        32\n",
      "  JavaScript Developer       0.82      0.70      0.75        33\n",
      "      Machine Learning       0.90      0.90      0.90        31\n",
      " Network Administrator       0.96      0.79      0.87        29\n",
      "     Node js developer       0.59      0.91      0.72        32\n",
      "         PHP Developer       0.76      0.84      0.80        31\n",
      "     Software Engineer       0.46      0.69      0.55        32\n",
      "   Wordpress Developer       0.88      0.85      0.86        26\n",
      "         iOS Developer       0.90      0.84      0.87        32\n",
      "\n",
      "              accuracy                           0.76       456\n",
      "             macro avg       0.79      0.76      0.75       456\n",
      "          weighted avg       0.79      0.76      0.75       456\n",
      "\n"
     ]
    }
   ],
   "source": [
    "nb_preds = nb_pipeline.predict(X_test)\n",
    "# Print classification report\n",
    "print(\"Classification Report NB:\")\n",
    "print(classification_report(y_test, nb_preds))"
   ]
  },
  {
   "cell_type": "markdown",
   "metadata": {},
   "source": [
    "## 5. Save model"
   ]
  },
  {
   "cell_type": "code",
   "execution_count": 86,
   "metadata": {},
   "outputs": [
    {
     "data": {
      "text/plain": [
       "['C:\\\\Projects\\\\Job Recommendation\\\\artifacts\\\\random_forest_model.pkl']"
      ]
     },
     "execution_count": 86,
     "metadata": {},
     "output_type": "execute_result"
    }
   ],
   "source": [
    "# Save Naive Bayes\n",
    "joblib.dump(nb_pipeline, r'C:\\Projects\\Job Recommendation\\artifacts\\naive_bayes_model.pkl')\n",
    "\n",
    "# Save SVM\n",
    "joblib.dump(svm_pipeline, r'C:\\Projects\\Job Recommendation\\artifacts\\svm_model.pkl')\n",
    "\n",
    "# Save Random Forest\n",
    "joblib.dump(pipeline, r'C:\\Projects\\Job Recommendation\\artifacts\\random_forest_model.pkl')"
   ]
  },
  {
   "cell_type": "markdown",
   "metadata": {},
   "source": [
    "## 6. Test Cases"
   ]
  },
  {
   "cell_type": "code",
   "execution_count": 88,
   "metadata": {},
   "outputs": [],
   "source": [
    "classifiers = {\n",
    "    \"Naive Bayes\": nb_pipeline,\n",
    "    \"SVM\": svm_pipeline,\n",
    "    \"Random Forest\": pipeline\n",
    "}"
   ]
  },
  {
   "cell_type": "code",
   "execution_count": 93,
   "metadata": {},
   "outputs": [
    {
     "name": "stdout",
     "output_type": "stream",
     "text": [
      "\n",
      "📄 Testing job description snippet: Looking for a skilled software engineer with experience in Python, Java, and web development. \n",
      "    M ...\n",
      "------------------------------------------------------------\n",
      "\n",
      "🔹 Naive Bayes predictions:\n",
      "Predicted job title: Software Engineer\n",
      "\n",
      "🔹 SVM predictions:\n",
      "Predicted job title: Software Engineer\n",
      "\n",
      "🔹 Random Forest predictions:\n",
      "Predicted job title: Software Engineer\n",
      "\n",
      "📄 Testing job description snippet: Data science Expert needed. Experience with EDA, data analysis. \n",
      "    Knowledge of python or r requir ...\n",
      "------------------------------------------------------------\n",
      "\n",
      "🔹 Naive Bayes predictions:\n",
      "Predicted job title: Machine Learning\n",
      "\n",
      "🔹 SVM predictions:\n",
      "Predicted job title: Machine Learning\n",
      "\n",
      "🔹 Random Forest predictions:\n",
      "Predicted job title: Machine Learning\n"
     ]
    }
   ],
   "source": [
    "import numpy as np\n",
    "\n",
    "# Sample test cases\n",
    "test_cases = [\n",
    "    \"\"\"Looking for a skilled software engineer with experience in Python, Java, and web development. \n",
    "    Must have knowledge of algorithms, data structures, and software design patterns.\"\"\",\n",
    "    \n",
    "    \"\"\"Data science Expert needed. Experience with EDA, data analysis. \n",
    "    Knowledge of python or r required.\"\"\"\n",
    "]\n",
    "\n",
    "# Test each classifier\n",
    "for desc in test_cases:\n",
    "    print(\"\\n📄 Testing job description snippet:\", desc[:100], \"...\\n\" + \"-\"*60)\n",
    "    \n",
    "    for name, clf in classifiers.items():\n",
    "        # Predict the class and probabilities\n",
    "        prediction = clf.predict([desc])[0]\n",
    "\n",
    "        # Check if classifier supports predict_proba\n",
    "        if hasattr(clf, \"predict_proba\"):\n",
    "            probas = clf.predict_proba([desc])[0]\n",
    "            top_3_idx = np.argsort(probas)[-3:][::-1]\n",
    "            \n",
    "            print(f\"\\n🔹 {name} predictions:\")\n",
    "            print(f\"Predicted job title: {prediction}\")\n",
    "            # print(\"Top 3 predictions with probabilities:\")\n",
    "            # for idx in top_3_idx:\n",
    "            #     print(f\" - {clf.classes_[idx]}: {probas[idx]:.3f}\")\n",
    "        else:\n",
    "            print(f\"\\n🔹 {name} predictions:\")\n",
    "            print(f\"Predicted job title: {prediction}\")\n",
    "            # print(\"(No probability scores available for this model)\")\n"
   ]
  },
  {
   "cell_type": "markdown",
   "metadata": {},
   "source": [
    "## LSTM"
   ]
  },
  {
   "cell_type": "code",
   "execution_count": 7,
   "metadata": {},
   "outputs": [
    {
     "name": "stdout",
     "output_type": "stream",
     "text": [
      "Found existing installation: torch 2.4.1\n",
      "Uninstalling torch-2.4.1:\n",
      "  Successfully uninstalled torch-2.4.1\n",
      "Collecting torch\n",
      "  Using cached torch-2.4.1-cp38-cp38-win_amd64.whl.metadata (27 kB)\n",
      "Requirement already satisfied: filelock in c:\\users\\komal\\anaconda3\\envs\\job_recommendation\\lib\\site-packages (from torch) (3.16.1)\n",
      "Requirement already satisfied: typing-extensions>=4.8.0 in c:\\users\\komal\\anaconda3\\envs\\job_recommendation\\lib\\site-packages (from torch) (4.12.2)\n",
      "Requirement already satisfied: sympy in c:\\users\\komal\\anaconda3\\envs\\job_recommendation\\lib\\site-packages (from torch) (1.13.3)\n",
      "Requirement already satisfied: networkx in c:\\users\\komal\\anaconda3\\envs\\job_recommendation\\lib\\site-packages (from torch) (3.1)\n",
      "Requirement already satisfied: jinja2 in c:\\users\\komal\\anaconda3\\envs\\job_recommendation\\lib\\site-packages (from torch) (3.1.6)\n",
      "Requirement already satisfied: fsspec in c:\\users\\komal\\anaconda3\\envs\\job_recommendation\\lib\\site-packages (from torch) (2025.3.0)\n",
      "Requirement already satisfied: MarkupSafe>=2.0 in c:\\users\\komal\\anaconda3\\envs\\job_recommendation\\lib\\site-packages (from jinja2->torch) (2.1.5)\n",
      "Requirement already satisfied: mpmath<1.4,>=1.1.0 in c:\\users\\komal\\anaconda3\\envs\\job_recommendation\\lib\\site-packages (from sympy->torch) (1.3.0)\n",
      "Using cached torch-2.4.1-cp38-cp38-win_amd64.whl (199.4 MB)\n",
      "Installing collected packages: torch\n",
      "Successfully installed torch-2.4.1\n"
     ]
    }
   ],
   "source": [
    "!pip uninstall torch -y\n",
    "!pip install torch --upgrade"
   ]
  },
  {
   "cell_type": "code",
   "execution_count": 8,
   "metadata": {},
   "outputs": [],
   "source": [
    "import torch\n",
    "import torch.nn as nn\n",
    "from torch.utils.data import Dataset, DataLoader"
   ]
  },
  {
   "cell_type": "code",
   "execution_count": 43,
   "metadata": {},
   "outputs": [],
   "source": [
    "class JobDataset(Dataset):\n",
    "    def __init__(self, texts, labels, vectorizer, max_length=200):\n",
    "        self.texts = texts\n",
    "        self.labels = labels\n",
    "        self.vectorizer = vectorizer\n",
    "        self.max_length = max_length\n",
    "        \n",
    "    def __len__(self):\n",
    "        return len(self.texts)\n",
    "    \n",
    "    def __getitem__(self, idx):\n",
    "        text = self.texts[idx]\n",
    "        label = self.labels[idx]\n",
    "        \n",
    "        # Ensure text is a string\n",
    "        if isinstance(text, np.ndarray):\n",
    "            text = str(text[0]) if text.size > 0 else \"\"\n",
    "        elif not isinstance(text, str):\n",
    "            text = str(text)\n",
    "        \n",
    "        # Convert text to sequence using the vectorizer\n",
    "        sequence = self.vectorizer.transform([text]).toarray()[0]\n",
    "        \n",
    "        # Pad sequence if needed\n",
    "        if len(sequence) < self.max_length:\n",
    "            padded = np.zeros(self.max_length, dtype=np.float32)\n",
    "            padded[:len(sequence)] = sequence\n",
    "            sequence = padded\n",
    "        else:\n",
    "            sequence = sequence[:self.max_length]\n",
    "        \n",
    "        return torch.FloatTensor(sequence), torch.LongTensor([label])"
   ]
  },
  {
   "cell_type": "code",
   "execution_count": 44,
   "metadata": {},
   "outputs": [],
   "source": [
    "class LSTMModel(nn.Module):\n",
    "    def __init__(self, input_size, hidden_dim, num_classes):\n",
    "        super().__init__()\n",
    "        self.lstm = nn.LSTM(input_size, hidden_dim, num_layers=2, \n",
    "                          batch_first=True, dropout=0.3, bidirectional=True)\n",
    "        self.fc = nn.Sequential(\n",
    "            nn.Linear(hidden_dim * 2, 64),\n",
    "            nn.ReLU(),\n",
    "            nn.Dropout(0.3),\n",
    "            nn.Linear(64, num_classes)\n",
    "        )\n",
    "        \n",
    "    def forward(self, x):\n",
    "        # Reshape input for LSTM (batch_size, seq_len, input_size)\n",
    "        x = x.unsqueeze(1)  # Add sequence length dimension\n",
    "        lstm_out, _ = self.lstm(x)\n",
    "        last_hidden = lstm_out[:, -1, :]\n",
    "        output = self.fc(last_hidden)\n",
    "        return output"
   ]
  },
  {
   "cell_type": "code",
   "execution_count": 45,
   "metadata": {},
   "outputs": [
    {
     "name": "stdout",
     "output_type": "stream",
     "text": [
      "Number of classes: 15\n",
      "Max sequence length: 10000\n"
     ]
    }
   ],
   "source": [
    "from sklearn.feature_extraction.text import TfidfVectorizer\n",
    "from sklearn.preprocessing import LabelEncoder\n",
    "from sklearn.model_selection import StratifiedShuffleSplit\n",
    "# Load data\n",
    "df = pd.read_csv(r'C:\\Projects\\Job Recommendation\\data\\processed_job_descriptions.csv')\n",
    "\n",
    "# Split data\n",
    "X = df['cleaned_text']\n",
    "y = df['Job Title']\n",
    "\n",
    "sss = StratifiedShuffleSplit(n_splits=1, test_size=0.2, random_state=42)\n",
    "for train_idx, test_idx in sss.split(X, y):\n",
    "    X_train, X_test = X[train_idx], X[test_idx]\n",
    "    y_train, y_test = y[train_idx], y[test_idx]\n",
    "\n",
    "X_train = X_train.reset_index(drop=True)\n",
    "X_test = X_test.reset_index(drop=True)\n",
    "y_train = y_train.reset_index(drop=True)\n",
    "y_test = y_test.reset_index(drop=True)\n",
    "\n",
    "# Create vectorizer\n",
    "vectorizer = TfidfVectorizer(\n",
    "    max_features=10000,\n",
    "    ngram_range=(1, 2),\n",
    "    min_df=3,\n",
    "    max_df=0.8,\n",
    "    stop_words='english'\n",
    ")\n",
    "\n",
    "# Fit vectorizer\n",
    "X_train_tfidf = vectorizer.fit_transform(X_train)\n",
    "max_sequence_length = (X_train_tfidf.shape[1])\n",
    "\n",
    "# Encode labels\n",
    "label_encoder = LabelEncoder()\n",
    "y_train_encoded = label_encoder.fit_transform(y_train)\n",
    "y_test_encoded = label_encoder.transform(y_test)\n",
    "\n",
    "print(f\"Number of classes: {len(label_encoder.classes_)}\")\n",
    "print(f\"Max sequence length: {max_sequence_length}\")"
   ]
  },
  {
   "cell_type": "code",
   "execution_count": 46,
   "metadata": {},
   "outputs": [
    {
     "name": "stdout",
     "output_type": "stream",
     "text": [
      "Training batches: 57\n",
      "Testing batches: 15\n"
     ]
    }
   ],
   "source": [
    "# Create datasets\n",
    "train_dataset = JobDataset(X_train, y_train_encoded, vectorizer, max_sequence_length)\n",
    "test_dataset = JobDataset(X_test, y_test_encoded, vectorizer, max_sequence_length)\n",
    "\n",
    "# Create dataloaders\n",
    "batch_size = 32\n",
    "train_loader = DataLoader(train_dataset, batch_size=batch_size, shuffle=True)\n",
    "test_loader = DataLoader(test_dataset, batch_size=batch_size, shuffle=False)\n",
    "\n",
    "print(f\"Training batches: {len(train_loader)}\")\n",
    "print(f\"Testing batches: {len(test_loader)}\")"
   ]
  },
  {
   "cell_type": "code",
   "execution_count": 47,
   "metadata": {},
   "outputs": [
    {
     "name": "stdout",
     "output_type": "stream",
     "text": [
      "Using device: cpu\n"
     ]
    }
   ],
   "source": [
    "# Set device\n",
    "device = torch.device('cuda' if torch.cuda.is_available() else 'cpu')\n",
    "print(f\"Using device: {device}\")\n",
    "\n",
    "# Initialize model\n",
    "model = LSTMModel(\n",
    "    input_size=max_sequence_length,\n",
    "    hidden_dim=128,\n",
    "    num_classes=len(label_encoder.classes_)\n",
    ").to(device)\n",
    "\n",
    "# Training setup\n",
    "criterion = nn.CrossEntropyLoss()\n",
    "optimizer = torch.optim.Adam(model.parameters())\n",
    "\n",
    "# Learning rate scheduler\n",
    "scheduler = torch.optim.lr_scheduler.ReduceLROnPlateau(optimizer, 'min', patience=2)"
   ]
  },
  {
   "cell_type": "code",
   "execution_count": 48,
   "metadata": {},
   "outputs": [
    {
     "name": "stdout",
     "output_type": "stream",
     "text": [
      "Requirement already satisfied: tqdm in c:\\users\\komal\\anaconda3\\envs\\job_recommendation\\lib\\site-packages (4.67.1)\n",
      "Requirement already satisfied: colorama in c:\\users\\komal\\anaconda3\\envs\\job_recommendation\\lib\\site-packages (from tqdm) (0.4.6)\n"
     ]
    }
   ],
   "source": [
    "!pip install tqdm"
   ]
  },
  {
   "cell_type": "code",
   "execution_count": 49,
   "metadata": {},
   "outputs": [
    {
     "name": "stdout",
     "output_type": "stream",
     "text": [
      "\n",
      "Epoch 1/10\n"
     ]
    },
    {
     "name": "stderr",
     "output_type": "stream",
     "text": [
      "Training: 100%|██████████| 57/57 [00:05<00:00, 10.97it/s]\n",
      "Evaluating: 100%|██████████| 15/15 [00:01<00:00, 12.96it/s]\n",
      "c:\\Users\\Komal\\anaconda3\\envs\\job_recommendation\\lib\\site-packages\\sklearn\\metrics\\_classification.py:1471: UndefinedMetricWarning: Precision and F-score are ill-defined and being set to 0.0 in labels with no predicted samples. Use `zero_division` parameter to control this behavior.\n",
      "  _warn_prf(average, modifier, msg_start, len(result))\n",
      "c:\\Users\\Komal\\anaconda3\\envs\\job_recommendation\\lib\\site-packages\\sklearn\\metrics\\_classification.py:1471: UndefinedMetricWarning: Precision and F-score are ill-defined and being set to 0.0 in labels with no predicted samples. Use `zero_division` parameter to control this behavior.\n",
      "  _warn_prf(average, modifier, msg_start, len(result))\n",
      "c:\\Users\\Komal\\anaconda3\\envs\\job_recommendation\\lib\\site-packages\\sklearn\\metrics\\_classification.py:1471: UndefinedMetricWarning: Precision and F-score are ill-defined and being set to 0.0 in labels with no predicted samples. Use `zero_division` parameter to control this behavior.\n",
      "  _warn_prf(average, modifier, msg_start, len(result))\n"
     ]
    },
    {
     "name": "stdout",
     "output_type": "stream",
     "text": [
      "Train Loss: 2.6952, Val Loss: 2.6198\n",
      "\n",
      "Classification Report:\n",
      "                        precision    recall  f1-score   support\n",
      "\n",
      "     Backend Developer       0.02      0.10      0.04        29\n",
      "Database Administrator       0.00      0.00      0.00        28\n",
      "       DevOps Engineer       0.00      0.00      0.00        31\n",
      "      Django Developer       0.00      0.00      0.00        31\n",
      "     Flutter Developer       0.00      0.00      0.00        31\n",
      "  Full Stack Developer       0.00      0.00      0.00        28\n",
      "        Java Developer       0.00      0.00      0.00        32\n",
      "  JavaScript Developer       0.00      0.00      0.00        33\n",
      "      Machine Learning       1.00      0.16      0.28        31\n",
      " Network Administrator       0.00      0.00      0.00        29\n",
      "     Node js developer       0.38      0.69      0.49        32\n",
      "         PHP Developer       0.16      0.55      0.25        31\n",
      "     Software Engineer       0.00      0.00      0.00        32\n",
      "   Wordpress Developer       0.00      0.00      0.00        26\n",
      "         iOS Developer       0.20      0.94      0.32        32\n",
      "\n",
      "              accuracy                           0.17       456\n",
      "             macro avg       0.12      0.16      0.09       456\n",
      "          weighted avg       0.12      0.17      0.10       456\n",
      "\n",
      "\n",
      "Epoch 2/10\n"
     ]
    },
    {
     "name": "stderr",
     "output_type": "stream",
     "text": [
      "Training: 100%|██████████| 57/57 [00:05<00:00,  9.91it/s]\n",
      "Evaluating: 100%|██████████| 15/15 [00:00<00:00, 17.20it/s]\n",
      "c:\\Users\\Komal\\anaconda3\\envs\\job_recommendation\\lib\\site-packages\\sklearn\\metrics\\_classification.py:1471: UndefinedMetricWarning: Precision and F-score are ill-defined and being set to 0.0 in labels with no predicted samples. Use `zero_division` parameter to control this behavior.\n",
      "  _warn_prf(average, modifier, msg_start, len(result))\n",
      "c:\\Users\\Komal\\anaconda3\\envs\\job_recommendation\\lib\\site-packages\\sklearn\\metrics\\_classification.py:1471: UndefinedMetricWarning: Precision and F-score are ill-defined and being set to 0.0 in labels with no predicted samples. Use `zero_division` parameter to control this behavior.\n",
      "  _warn_prf(average, modifier, msg_start, len(result))\n",
      "c:\\Users\\Komal\\anaconda3\\envs\\job_recommendation\\lib\\site-packages\\sklearn\\metrics\\_classification.py:1471: UndefinedMetricWarning: Precision and F-score are ill-defined and being set to 0.0 in labels with no predicted samples. Use `zero_division` parameter to control this behavior.\n",
      "  _warn_prf(average, modifier, msg_start, len(result))\n"
     ]
    },
    {
     "name": "stdout",
     "output_type": "stream",
     "text": [
      "Train Loss: 2.0196, Val Loss: 1.3689\n",
      "\n",
      "Classification Report:\n",
      "                        precision    recall  f1-score   support\n",
      "\n",
      "     Backend Developer       0.40      0.28      0.33        29\n",
      "Database Administrator       0.78      0.89      0.83        28\n",
      "       DevOps Engineer       0.72      0.84      0.78        31\n",
      "      Django Developer       0.95      0.65      0.77        31\n",
      "     Flutter Developer       0.92      0.74      0.82        31\n",
      "  Full Stack Developer       0.00      0.00      0.00        28\n",
      "        Java Developer       0.21      0.75      0.33        32\n",
      "  JavaScript Developer       0.34      0.30      0.32        33\n",
      "      Machine Learning       0.96      0.77      0.86        31\n",
      " Network Administrator       1.00      0.59      0.74        29\n",
      "     Node js developer       0.57      0.81      0.67        32\n",
      "         PHP Developer       0.64      0.74      0.69        31\n",
      "     Software Engineer       0.25      0.03      0.06        32\n",
      "   Wordpress Developer       0.86      0.73      0.79        26\n",
      "         iOS Developer       0.77      0.72      0.74        32\n",
      "\n",
      "              accuracy                           0.59       456\n",
      "             macro avg       0.63      0.59      0.58       456\n",
      "          weighted avg       0.62      0.59      0.58       456\n",
      "\n",
      "\n",
      "Epoch 3/10\n"
     ]
    },
    {
     "name": "stderr",
     "output_type": "stream",
     "text": [
      "Training: 100%|██████████| 57/57 [00:05<00:00, 10.77it/s]\n",
      "Evaluating: 100%|██████████| 15/15 [00:00<00:00, 23.44it/s]\n"
     ]
    },
    {
     "name": "stdout",
     "output_type": "stream",
     "text": [
      "Train Loss: 1.0078, Val Loss: 0.9677\n",
      "\n",
      "Classification Report:\n",
      "                        precision    recall  f1-score   support\n",
      "\n",
      "     Backend Developer       0.46      0.45      0.46        29\n",
      "Database Administrator       0.79      0.93      0.85        28\n",
      "       DevOps Engineer       0.87      0.87      0.87        31\n",
      "      Django Developer       0.85      0.74      0.79        31\n",
      "     Flutter Developer       0.73      0.87      0.79        31\n",
      "  Full Stack Developer       0.46      0.39      0.42        28\n",
      "        Java Developer       0.37      0.50      0.43        32\n",
      "  JavaScript Developer       0.55      0.48      0.52        33\n",
      "      Machine Learning       0.96      0.87      0.92        31\n",
      " Network Administrator       0.96      0.83      0.89        29\n",
      "     Node js developer       0.68      0.78      0.72        32\n",
      "         PHP Developer       0.88      0.68      0.76        31\n",
      "     Software Engineer       0.42      0.41      0.41        32\n",
      "   Wordpress Developer       0.81      0.85      0.83        26\n",
      "         iOS Developer       0.81      0.81      0.81        32\n",
      "\n",
      "              accuracy                           0.70       456\n",
      "             macro avg       0.71      0.70      0.70       456\n",
      "          weighted avg       0.71      0.70      0.70       456\n",
      "\n",
      "\n",
      "Epoch 4/10\n"
     ]
    },
    {
     "name": "stderr",
     "output_type": "stream",
     "text": [
      "Training: 100%|██████████| 57/57 [00:04<00:00, 11.79it/s]\n",
      "Evaluating: 100%|██████████| 15/15 [00:00<00:00, 22.09it/s]\n"
     ]
    },
    {
     "name": "stdout",
     "output_type": "stream",
     "text": [
      "Train Loss: 0.5902, Val Loss: 0.9606\n",
      "\n",
      "Classification Report:\n",
      "                        precision    recall  f1-score   support\n",
      "\n",
      "     Backend Developer       0.44      0.59      0.50        29\n",
      "Database Administrator       0.93      0.89      0.91        28\n",
      "       DevOps Engineer       0.90      0.87      0.89        31\n",
      "      Django Developer       0.79      0.74      0.77        31\n",
      "     Flutter Developer       0.93      0.87      0.90        31\n",
      "  Full Stack Developer       0.55      0.39      0.46        28\n",
      "        Java Developer       0.47      0.25      0.33        32\n",
      "  JavaScript Developer       0.50      0.61      0.55        33\n",
      "      Machine Learning       1.00      0.77      0.87        31\n",
      " Network Administrator       0.96      0.86      0.91        29\n",
      "     Node js developer       0.88      0.72      0.79        32\n",
      "         PHP Developer       0.88      0.68      0.76        31\n",
      "     Software Engineer       0.36      0.84      0.50        32\n",
      "   Wordpress Developer       0.88      0.85      0.86        26\n",
      "         iOS Developer       1.00      0.78      0.88        32\n",
      "\n",
      "              accuracy                           0.71       456\n",
      "             macro avg       0.76      0.71      0.73       456\n",
      "          weighted avg       0.76      0.71      0.72       456\n",
      "\n",
      "\n",
      "Epoch 5/10\n"
     ]
    },
    {
     "name": "stderr",
     "output_type": "stream",
     "text": [
      "Training: 100%|██████████| 57/57 [00:04<00:00, 11.56it/s]\n",
      "Evaluating: 100%|██████████| 15/15 [00:00<00:00, 23.32it/s]\n"
     ]
    },
    {
     "name": "stdout",
     "output_type": "stream",
     "text": [
      "Train Loss: 0.3749, Val Loss: 0.9840\n",
      "\n",
      "Classification Report:\n",
      "                        precision    recall  f1-score   support\n",
      "\n",
      "     Backend Developer       0.42      0.59      0.49        29\n",
      "Database Administrator       0.96      0.82      0.88        28\n",
      "       DevOps Engineer       0.92      0.77      0.84        31\n",
      "      Django Developer       0.92      0.71      0.80        31\n",
      "     Flutter Developer       0.90      0.84      0.87        31\n",
      "  Full Stack Developer       0.43      0.36      0.39        28\n",
      "        Java Developer       0.57      0.41      0.47        32\n",
      "  JavaScript Developer       0.49      0.70      0.57        33\n",
      "      Machine Learning       0.87      0.87      0.87        31\n",
      " Network Administrator       1.00      0.83      0.91        29\n",
      "     Node js developer       0.79      0.72      0.75        32\n",
      "         PHP Developer       0.87      0.65      0.74        31\n",
      "     Software Engineer       0.44      0.81      0.57        32\n",
      "   Wordpress Developer       0.82      0.88      0.85        26\n",
      "         iOS Developer       0.96      0.78      0.86        32\n",
      "\n",
      "              accuracy                           0.71       456\n",
      "             macro avg       0.76      0.72      0.73       456\n",
      "          weighted avg       0.76      0.71      0.72       456\n",
      "\n",
      "\n",
      "Epoch 6/10\n"
     ]
    },
    {
     "name": "stderr",
     "output_type": "stream",
     "text": [
      "Training: 100%|██████████| 57/57 [00:04<00:00, 11.85it/s]\n",
      "Evaluating: 100%|██████████| 15/15 [00:00<00:00, 21.77it/s]\n"
     ]
    },
    {
     "name": "stdout",
     "output_type": "stream",
     "text": [
      "Train Loss: 0.2283, Val Loss: 1.1008\n",
      "\n",
      "Classification Report:\n",
      "                        precision    recall  f1-score   support\n",
      "\n",
      "     Backend Developer       0.44      0.52      0.48        29\n",
      "Database Administrator       0.96      0.86      0.91        28\n",
      "       DevOps Engineer       0.93      0.90      0.92        31\n",
      "      Django Developer       0.85      0.74      0.79        31\n",
      "     Flutter Developer       0.96      0.81      0.88        31\n",
      "  Full Stack Developer       0.60      0.43      0.50        28\n",
      "        Java Developer       0.52      0.47      0.49        32\n",
      "  JavaScript Developer       0.38      0.70      0.49        33\n",
      "      Machine Learning       0.96      0.81      0.88        31\n",
      " Network Administrator       0.96      0.83      0.89        29\n",
      "     Node js developer       0.65      0.75      0.70        32\n",
      "         PHP Developer       0.85      0.71      0.77        31\n",
      "     Software Engineer       0.46      0.56      0.51        32\n",
      "   Wordpress Developer       0.88      0.81      0.84        26\n",
      "         iOS Developer       0.93      0.81      0.87        32\n",
      "\n",
      "              accuracy                           0.71       456\n",
      "             macro avg       0.76      0.71      0.73       456\n",
      "          weighted avg       0.75      0.71      0.72       456\n",
      "\n",
      "\n",
      "Epoch 7/10\n"
     ]
    },
    {
     "name": "stderr",
     "output_type": "stream",
     "text": [
      "Training: 100%|██████████| 57/57 [00:05<00:00, 10.57it/s]\n",
      "Evaluating: 100%|██████████| 15/15 [00:00<00:00, 20.35it/s]\n"
     ]
    },
    {
     "name": "stdout",
     "output_type": "stream",
     "text": [
      "Train Loss: 0.1696, Val Loss: 1.1767\n",
      "\n",
      "Classification Report:\n",
      "                        precision    recall  f1-score   support\n",
      "\n",
      "     Backend Developer       0.38      0.66      0.48        29\n",
      "Database Administrator       0.96      0.86      0.91        28\n",
      "       DevOps Engineer       0.92      0.74      0.82        31\n",
      "      Django Developer       1.00      0.58      0.73        31\n",
      "     Flutter Developer       0.96      0.84      0.90        31\n",
      "  Full Stack Developer       0.43      0.36      0.39        28\n",
      "        Java Developer       0.50      0.47      0.48        32\n",
      "  JavaScript Developer       0.45      0.61      0.52        33\n",
      "      Machine Learning       0.96      0.74      0.84        31\n",
      " Network Administrator       0.96      0.83      0.89        29\n",
      "     Node js developer       0.84      0.66      0.74        32\n",
      "         PHP Developer       0.86      0.61      0.72        31\n",
      "     Software Engineer       0.42      0.84      0.56        32\n",
      "   Wordpress Developer       0.81      0.85      0.83        26\n",
      "         iOS Developer       0.96      0.78      0.86        32\n",
      "\n",
      "              accuracy                           0.69       456\n",
      "             macro avg       0.76      0.69      0.71       456\n",
      "          weighted avg       0.76      0.69      0.71       456\n",
      "\n",
      "\n",
      "Epoch 8/10\n"
     ]
    },
    {
     "name": "stderr",
     "output_type": "stream",
     "text": [
      "Training: 100%|██████████| 57/57 [00:05<00:00, 11.34it/s]\n",
      "Evaluating: 100%|██████████| 15/15 [00:00<00:00, 19.13it/s]\n"
     ]
    },
    {
     "name": "stdout",
     "output_type": "stream",
     "text": [
      "Train Loss: 0.1315, Val Loss: 1.1297\n",
      "\n",
      "Classification Report:\n",
      "                        precision    recall  f1-score   support\n",
      "\n",
      "     Backend Developer       0.47      0.55      0.51        29\n",
      "Database Administrator       0.96      0.86      0.91        28\n",
      "       DevOps Engineer       0.90      0.87      0.89        31\n",
      "      Django Developer       0.95      0.65      0.77        31\n",
      "     Flutter Developer       0.96      0.87      0.92        31\n",
      "  Full Stack Developer       0.48      0.43      0.45        28\n",
      "        Java Developer       0.54      0.44      0.48        32\n",
      "  JavaScript Developer       0.42      0.67      0.52        33\n",
      "      Machine Learning       0.96      0.74      0.84        31\n",
      " Network Administrator       0.96      0.83      0.89        29\n",
      "     Node js developer       0.75      0.75      0.75        32\n",
      "         PHP Developer       0.85      0.71      0.77        31\n",
      "     Software Engineer       0.46      0.81      0.59        32\n",
      "   Wordpress Developer       0.84      0.81      0.82        26\n",
      "         iOS Developer       0.96      0.81      0.88        32\n",
      "\n",
      "              accuracy                           0.72       456\n",
      "             macro avg       0.76      0.72      0.73       456\n",
      "          weighted avg       0.76      0.72      0.73       456\n",
      "\n",
      "\n",
      "Epoch 9/10\n"
     ]
    },
    {
     "name": "stderr",
     "output_type": "stream",
     "text": [
      "Training: 100%|██████████| 57/57 [00:05<00:00, 11.27it/s]\n",
      "Evaluating: 100%|██████████| 15/15 [00:00<00:00, 18.45it/s]\n"
     ]
    },
    {
     "name": "stdout",
     "output_type": "stream",
     "text": [
      "Train Loss: 0.1199, Val Loss: 1.1321\n",
      "\n",
      "Classification Report:\n",
      "                        precision    recall  f1-score   support\n",
      "\n",
      "     Backend Developer       0.47      0.55      0.51        29\n",
      "Database Administrator       0.92      0.86      0.89        28\n",
      "       DevOps Engineer       0.90      0.90      0.90        31\n",
      "      Django Developer       0.95      0.68      0.79        31\n",
      "     Flutter Developer       0.96      0.87      0.92        31\n",
      "  Full Stack Developer       0.54      0.46      0.50        28\n",
      "        Java Developer       0.52      0.44      0.47        32\n",
      "  JavaScript Developer       0.45      0.73      0.56        33\n",
      "      Machine Learning       0.96      0.81      0.88        31\n",
      " Network Administrator       0.96      0.83      0.89        29\n",
      "     Node js developer       0.73      0.75      0.74        32\n",
      "         PHP Developer       0.85      0.74      0.79        31\n",
      "     Software Engineer       0.48      0.72      0.57        32\n",
      "   Wordpress Developer       0.83      0.77      0.80        26\n",
      "         iOS Developer       0.93      0.81      0.87        32\n",
      "\n",
      "              accuracy                           0.73       456\n",
      "             macro avg       0.76      0.73      0.74       456\n",
      "          weighted avg       0.76      0.73      0.74       456\n",
      "\n",
      "\n",
      "Epoch 10/10\n"
     ]
    },
    {
     "name": "stderr",
     "output_type": "stream",
     "text": [
      "Training: 100%|██████████| 57/57 [00:05<00:00, 10.66it/s]\n",
      "Evaluating: 100%|██████████| 15/15 [00:00<00:00, 22.66it/s]"
     ]
    },
    {
     "name": "stdout",
     "output_type": "stream",
     "text": [
      "Train Loss: 0.1073, Val Loss: 1.1388\n",
      "\n",
      "Classification Report:\n",
      "                        precision    recall  f1-score   support\n",
      "\n",
      "     Backend Developer       0.48      0.52      0.50        29\n",
      "Database Administrator       0.92      0.86      0.89        28\n",
      "       DevOps Engineer       0.90      0.87      0.89        31\n",
      "      Django Developer       0.92      0.71      0.80        31\n",
      "     Flutter Developer       0.96      0.87      0.92        31\n",
      "  Full Stack Developer       0.52      0.46      0.49        28\n",
      "        Java Developer       0.56      0.44      0.49        32\n",
      "  JavaScript Developer       0.43      0.70      0.53        33\n",
      "      Machine Learning       0.96      0.81      0.88        31\n",
      " Network Administrator       0.96      0.83      0.89        29\n",
      "     Node js developer       0.72      0.72      0.72        32\n",
      "         PHP Developer       0.85      0.71      0.77        31\n",
      "     Software Engineer       0.47      0.78      0.59        32\n",
      "   Wordpress Developer       0.83      0.77      0.80        26\n",
      "         iOS Developer       0.93      0.81      0.87        32\n",
      "\n",
      "              accuracy                           0.72       456\n",
      "             macro avg       0.76      0.72      0.73       456\n",
      "          weighted avg       0.76      0.72      0.73       456\n",
      "\n"
     ]
    },
    {
     "name": "stderr",
     "output_type": "stream",
     "text": [
      "\n"
     ]
    }
   ],
   "source": [
    "from tqdm import tqdm\n",
    "def train_epoch(model, dataloader, criterion, optimizer, device):\n",
    "    model.train()\n",
    "    total_loss = 0\n",
    "    \n",
    "    for batch_X, batch_y in tqdm(dataloader, desc=\"Training\"):\n",
    "        batch_X, batch_y = batch_X.to(device), batch_y.to(device)\n",
    "        \n",
    "        optimizer.zero_grad()\n",
    "        outputs = model(batch_X)\n",
    "        loss = criterion(outputs, batch_y.squeeze())\n",
    "        loss.backward()\n",
    "        optimizer.step()\n",
    "        \n",
    "        total_loss += loss.item()\n",
    "    \n",
    "    return total_loss / len(dataloader)\n",
    "\n",
    "def evaluate(model, dataloader, criterion, device):\n",
    "    model.eval()\n",
    "    total_loss = 0\n",
    "    all_predictions = []\n",
    "    all_labels = []\n",
    "    \n",
    "    with torch.no_grad():\n",
    "        for batch_X, batch_y in tqdm(dataloader, desc=\"Evaluating\"):\n",
    "            batch_X, batch_y = batch_X.to(device), batch_y.to(device)\n",
    "            \n",
    "            outputs = model(batch_X)\n",
    "            loss = criterion(outputs, batch_y.squeeze())\n",
    "            total_loss += loss.item()\n",
    "            \n",
    "            predictions = torch.argmax(outputs, dim=1)\n",
    "            all_predictions.extend(predictions.cpu().numpy())\n",
    "            all_labels.extend(batch_y.squeeze().cpu().numpy())\n",
    "    \n",
    "    return total_loss / len(dataloader), all_predictions, all_labels\n",
    "\n",
    "# Training loop\n",
    "num_epochs = 10\n",
    "train_losses = []\n",
    "val_losses = []\n",
    "\n",
    "for epoch in range(num_epochs):\n",
    "    print(f\"\\nEpoch {epoch+1}/{num_epochs}\")\n",
    "    \n",
    "    # Train\n",
    "    train_loss = train_epoch(model, train_loader, criterion, optimizer, device)\n",
    "    train_losses.append(train_loss)\n",
    "    \n",
    "    # Evaluate\n",
    "    val_loss, val_predictions, val_labels = evaluate(model, test_loader, criterion, device)\n",
    "    val_losses.append(val_loss)\n",
    "    \n",
    "    # Update learning rate\n",
    "    scheduler.step(val_loss)\n",
    "    \n",
    "    print(f\"Train Loss: {train_loss:.4f}, Val Loss: {val_loss:.4f}\")\n",
    "    \n",
    "    # Print classification report\n",
    "    print(\"\\nClassification Report:\")\n",
    "    print(classification_report(val_labels, val_predictions, \n",
    "                              target_names=label_encoder.classes_))"
   ]
  },
  {
   "cell_type": "code",
   "execution_count": 50,
   "metadata": {},
   "outputs": [
    {
     "name": "stdout",
     "output_type": "stream",
     "text": [
      "Number of classes: 15\n"
     ]
    }
   ],
   "source": [
    "print(f\"Number of classes: {len(label_encoder.classes_)}\")\n"
   ]
  },
  {
   "cell_type": "markdown",
   "metadata": {},
   "source": [
    "## Updated LSTM with Embedding + Attention"
   ]
  },
  {
   "cell_type": "code",
   "execution_count": 131,
   "metadata": {},
   "outputs": [
    {
     "name": "stdout",
     "output_type": "stream",
     "text": [
      "Vocab size: 6109\n"
     ]
    }
   ],
   "source": [
    "from gensim.utils import simple_preprocess\n",
    "from collections import Counter\n",
    "\n",
    "# Tokenize texts\n",
    "tokenized_texts = [simple_preprocess(text) for text in X_train]\n",
    "\n",
    "# Build vocabulary\n",
    "word_counts = Counter(token for tokens in tokenized_texts for token in tokens)\n",
    "min_freq = 3  # filter out rare words\n",
    "\n",
    "vocab = {'<PAD>': 0, '<UNK>': 1}\n",
    "for word, count in word_counts.items():\n",
    "    if count >= min_freq:\n",
    "        vocab[word] = len(vocab)\n",
    "\n",
    "print(f\"Vocab size: {len(vocab)}\")\n"
   ]
  },
  {
   "cell_type": "code",
   "execution_count": 132,
   "metadata": {},
   "outputs": [],
   "source": [
    "def text_to_sequence(text, vocab, max_len):\n",
    "    tokens = simple_preprocess(text)\n",
    "    sequence = [vocab.get(token, vocab['<UNK>']) for token in tokens]\n",
    "\n",
    "    # Padding or trimming\n",
    "    if len(sequence) < max_len:\n",
    "        sequence += [vocab['<PAD>']] * (max_len - len(sequence))\n",
    "    else:\n",
    "        sequence = sequence[:max_len]\n",
    "    \n",
    "    return sequence\n"
   ]
  },
  {
   "cell_type": "code",
   "execution_count": 133,
   "metadata": {},
   "outputs": [],
   "source": [
    "class JobDataset(Dataset):\n",
    "    def __init__(self, texts, labels, vocab, max_len):\n",
    "        self.texts = texts\n",
    "        self.labels = labels\n",
    "        self.vocab = vocab\n",
    "        self.max_len = max_len\n",
    "\n",
    "    def __len__(self):\n",
    "        return len(self.texts)\n",
    "\n",
    "    def __getitem__(self, idx):\n",
    "        text = self.texts[idx]\n",
    "        label = self.labels[idx]\n",
    "        sequence = text_to_sequence(text, self.vocab, self.max_len)\n",
    "        return torch.LongTensor(sequence), torch.LongTensor([label])\n"
   ]
  },
  {
   "cell_type": "code",
   "execution_count": 134,
   "metadata": {},
   "outputs": [],
   "source": [
    "vocab_size = len(vocab)\n",
    "model = LSTMAttentionModel(vocab_size, embedding_dim, hidden_dim, num_classes).to(device)\n"
   ]
  },
  {
   "cell_type": "code",
   "execution_count": 135,
   "metadata": {},
   "outputs": [
    {
     "name": "stderr",
     "output_type": "stream",
     "text": [
      "Epoch 1/10: 100%|██████████| 57/57 [00:11<00:00,  5.18it/s]\n"
     ]
    },
    {
     "name": "stdout",
     "output_type": "stream",
     "text": [
      "Epoch 1: Loss = 2.2938, Accuracy = 0.3706\n"
     ]
    },
    {
     "name": "stderr",
     "output_type": "stream",
     "text": [
      "Epoch 2/10: 100%|██████████| 57/57 [00:10<00:00,  5.29it/s]\n"
     ]
    },
    {
     "name": "stdout",
     "output_type": "stream",
     "text": [
      "Epoch 2: Loss = 1.5835, Accuracy = 0.4715\n"
     ]
    },
    {
     "name": "stderr",
     "output_type": "stream",
     "text": [
      "Epoch 3/10: 100%|██████████| 57/57 [00:10<00:00,  5.32it/s]\n"
     ]
    },
    {
     "name": "stdout",
     "output_type": "stream",
     "text": [
      "Epoch 3: Loss = 1.3167, Accuracy = 0.6031\n"
     ]
    },
    {
     "name": "stderr",
     "output_type": "stream",
     "text": [
      "Epoch 4/10: 100%|██████████| 57/57 [00:11<00:00,  5.04it/s]\n"
     ]
    },
    {
     "name": "stdout",
     "output_type": "stream",
     "text": [
      "Epoch 4: Loss = 1.0591, Accuracy = 0.5811\n"
     ]
    },
    {
     "name": "stderr",
     "output_type": "stream",
     "text": [
      "Epoch 5/10: 100%|██████████| 57/57 [00:11<00:00,  5.17it/s]\n"
     ]
    },
    {
     "name": "stdout",
     "output_type": "stream",
     "text": [
      "Epoch 5: Loss = 0.8602, Accuracy = 0.6864\n"
     ]
    },
    {
     "name": "stderr",
     "output_type": "stream",
     "text": [
      "Epoch 6/10: 100%|██████████| 57/57 [00:38<00:00,  1.46it/s]\n"
     ]
    },
    {
     "name": "stdout",
     "output_type": "stream",
     "text": [
      "Epoch 6: Loss = 0.7162, Accuracy = 0.6952\n"
     ]
    },
    {
     "name": "stderr",
     "output_type": "stream",
     "text": [
      "Epoch 7/10: 100%|██████████| 57/57 [00:11<00:00,  4.88it/s]\n"
     ]
    },
    {
     "name": "stdout",
     "output_type": "stream",
     "text": [
      "Epoch 7: Loss = 0.6072, Accuracy = 0.7171\n"
     ]
    },
    {
     "name": "stderr",
     "output_type": "stream",
     "text": [
      "Epoch 8/10: 100%|██████████| 57/57 [00:37<00:00,  1.51it/s]\n"
     ]
    },
    {
     "name": "stdout",
     "output_type": "stream",
     "text": [
      "Epoch 8: Loss = 0.5335, Accuracy = 0.6886\n"
     ]
    },
    {
     "name": "stderr",
     "output_type": "stream",
     "text": [
      "Epoch 9/10: 100%|██████████| 57/57 [00:13<00:00,  4.24it/s]\n"
     ]
    },
    {
     "name": "stdout",
     "output_type": "stream",
     "text": [
      "Epoch 9: Loss = 0.4594, Accuracy = 0.6930\n"
     ]
    },
    {
     "name": "stderr",
     "output_type": "stream",
     "text": [
      "Epoch 10/10: 100%|██████████| 57/57 [00:17<00:00,  3.26it/s]\n"
     ]
    },
    {
     "name": "stdout",
     "output_type": "stream",
     "text": [
      "Epoch 10: Loss = 0.3844, Accuracy = 0.6930\n"
     ]
    }
   ],
   "source": [
    "import pandas as pd\n",
    "import numpy as np\n",
    "import torch\n",
    "import torch.nn as nn\n",
    "from torch.utils.data import Dataset, DataLoader\n",
    "from sklearn.model_selection import StratifiedShuffleSplit\n",
    "from sklearn.preprocessing import LabelEncoder\n",
    "from gensim.models import FastText\n",
    "from tqdm import tqdm\n",
    "\n",
    "# 1. Load data\n",
    "df = pd.read_csv(r'C:\\Projects\\Job Recommendation\\data\\processed_job_descriptions.csv')\n",
    "X = df['cleaned_text']\n",
    "y = df['Job Title']\n",
    "\n",
    "# 2. Encode labels\n",
    "label_encoder = LabelEncoder()\n",
    "y_encoded = label_encoder.fit_transform(y)\n",
    "\n",
    "# 3. Train-test split\n",
    "sss = StratifiedShuffleSplit(n_splits=1, test_size=0.2, random_state=42)\n",
    "for train_idx, test_idx in sss.split(X, y):\n",
    "    X_train, X_test = X.iloc[train_idx], X.iloc[test_idx]\n",
    "    y_train, y_test = y_encoded[train_idx], y_encoded[test_idx]\n",
    "\n",
    "# 4. Tokenize\n",
    "def tokenize(text):\n",
    "    return text.lower().split()\n",
    "\n",
    "X_train_tokens = [tokenize(text) for text in X_train]\n",
    "X_test_tokens = [tokenize(text) for text in X_test]\n",
    "\n",
    "# 5. Train FastText model\n",
    "ft_model = FastText(sentences=X_train_tokens, vector_size=100, window=5, min_count=1, workers=4, epochs=10)\n",
    "\n",
    "# 6. Build vocabulary\n",
    "vocab = {word: idx+1 for idx, word in enumerate(ft_model.wv.index_to_key)}\n",
    "vocab['<PAD>'] = 0\n",
    "\n",
    "embedding_matrix = np.zeros((len(vocab), 100))\n",
    "for word, idx in vocab.items():\n",
    "    if word == '<PAD>':\n",
    "        continue\n",
    "    embedding_matrix[idx] = ft_model.wv[word]\n",
    "\n",
    "# 7. Prepare dataset\n",
    "max_length = 100\n",
    "\n",
    "def encode_text(tokens):\n",
    "    encoded = [vocab.get(token, 0) for token in tokens]\n",
    "    if len(encoded) < max_length:\n",
    "        encoded += [0] * (max_length - len(encoded))\n",
    "    else:\n",
    "        encoded = encoded[:max_length]\n",
    "    return encoded\n",
    "\n",
    "X_train_encoded = [encode_text(tokens) for tokens in X_train_tokens]\n",
    "X_test_encoded = [encode_text(tokens) for tokens in X_test_tokens]\n",
    "\n",
    "class JobDataset(Dataset):\n",
    "    def __init__(self, X, y):\n",
    "        self.X = torch.tensor(X, dtype=torch.long)\n",
    "        self.y = torch.tensor(y, dtype=torch.long)\n",
    "\n",
    "    def __len__(self):\n",
    "        return len(self.X)\n",
    "\n",
    "    def __getitem__(self, idx):\n",
    "        return self.X[idx], self.y[idx]\n",
    "\n",
    "train_dataset = JobDataset(X_train_encoded, y_train)\n",
    "test_dataset = JobDataset(X_test_encoded, y_test)\n",
    "\n",
    "train_loader = DataLoader(train_dataset, batch_size=32, shuffle=True)\n",
    "test_loader = DataLoader(test_dataset, batch_size=32)\n",
    "\n",
    "# 8. Model with attention\n",
    "class AttentionLSTM(nn.Module):\n",
    "    def __init__(self, embedding_matrix, hidden_dim, num_classes):\n",
    "        super().__init__()\n",
    "        vocab_size, emb_dim = embedding_matrix.shape\n",
    "        self.embedding = nn.Embedding.from_pretrained(torch.tensor(embedding_matrix, dtype=torch.float32), freeze=False)\n",
    "        self.lstm = nn.LSTM(emb_dim, hidden_dim, num_layers=2, batch_first=True, bidirectional=True)\n",
    "        self.attn = nn.Linear(hidden_dim * 2, 1)\n",
    "        self.fc = nn.Sequential(\n",
    "            nn.Linear(hidden_dim * 2, 128),\n",
    "            nn.ReLU(),\n",
    "            nn.Dropout(0.3),\n",
    "            nn.Linear(128, num_classes)\n",
    "        )\n",
    "\n",
    "    def forward(self, x):\n",
    "        x = self.embedding(x)\n",
    "        lstm_out, _ = self.lstm(x)\n",
    "        attn_weights = torch.softmax(self.attn(lstm_out).squeeze(-1), dim=1)\n",
    "        context = torch.sum(attn_weights.unsqueeze(-1) * lstm_out, dim=1)\n",
    "        return self.fc(context)\n",
    "\n",
    "# 9. Train and evaluate\n",
    "device = torch.device(\"cuda\" if torch.cuda.is_available() else \"cpu\")\n",
    "\n",
    "model = AttentionLSTM(embedding_matrix, hidden_dim=128, num_classes=len(label_encoder.classes_)).to(device)\n",
    "criterion = nn.CrossEntropyLoss()\n",
    "optimizer = torch.optim.Adam(model.parameters(), lr=1e-3)\n",
    "\n",
    "def evaluate(model, data_loader):\n",
    "    model.eval()\n",
    "    correct = total = 0\n",
    "    with torch.no_grad():\n",
    "        for inputs, labels in data_loader:\n",
    "            inputs, labels = inputs.to(device), labels.to(device)\n",
    "            outputs = model(inputs)\n",
    "            preds = torch.argmax(outputs, dim=1)\n",
    "            correct += (preds == labels).sum().item()\n",
    "            total += labels.size(0)\n",
    "    return correct / total\n",
    "\n",
    "def train_model(model, train_loader, test_loader, epochs=10):\n",
    "    for epoch in range(epochs):\n",
    "        model.train()\n",
    "        running_loss = 0.0\n",
    "        for inputs, labels in tqdm(train_loader, desc=f\"Epoch {epoch+1}/{epochs}\"):\n",
    "            inputs, labels = inputs.to(device), labels.to(device)\n",
    "            optimizer.zero_grad()\n",
    "            outputs = model(inputs)\n",
    "            loss = criterion(outputs, labels)\n",
    "            loss.backward()\n",
    "            optimizer.step()\n",
    "            running_loss += loss.item()\n",
    "\n",
    "        avg_loss = running_loss / len(train_loader)\n",
    "        acc = evaluate(model, test_loader)\n",
    "        print(f\"Epoch {epoch+1}: Loss = {avg_loss:.4f}, Accuracy = {acc:.4f}\")\n",
    "\n",
    "# 10. Run training\n",
    "train_model(model, train_loader, test_loader, epochs=10)\n"
   ]
  },
  {
   "cell_type": "markdown",
   "metadata": {},
   "source": [
    "## FFNN"
   ]
  },
  {
   "cell_type": "code",
   "execution_count": 110,
   "metadata": {},
   "outputs": [],
   "source": [
    "df = pd.read_csv(r'C:\\Projects\\Job Recommendation\\data\\processed_job_descriptions.csv')\n",
    "\n",
    "X = df['cleaned_text']\n",
    "y = df['Job Title']\n"
   ]
  },
  {
   "cell_type": "code",
   "execution_count": 111,
   "metadata": {},
   "outputs": [],
   "source": [
    "# Stratified split\n",
    "sss = StratifiedShuffleSplit(n_splits=1, test_size=0.2, random_state=42)\n",
    "for train_idx, test_idx in sss.split(X, y):\n",
    "    X_train, X_test = X.iloc[train_idx].reset_index(drop=True), X.iloc[test_idx].reset_index(drop=True)\n",
    "    y_train, y_test = y.iloc[train_idx].reset_index(drop=True), y.iloc[test_idx].reset_index(drop=True)\n"
   ]
  },
  {
   "cell_type": "code",
   "execution_count": 112,
   "metadata": {},
   "outputs": [],
   "source": [
    "vectorizer = TfidfVectorizer(\n",
    "    max_features=10000,\n",
    "    ngram_range=(1, 2),\n",
    "    min_df=3,\n",
    "    max_df=0.8,\n",
    "    stop_words='english'\n",
    ")\n",
    "X_train_tfidf = vectorizer.fit_transform(X_train)\n",
    "max_input_dim = X_train_tfidf.shape[1]\n"
   ]
  },
  {
   "cell_type": "code",
   "execution_count": 113,
   "metadata": {},
   "outputs": [],
   "source": [
    "label_encoder = LabelEncoder()\n",
    "y_train_encoded = label_encoder.fit_transform(y_train)\n",
    "y_test_encoded = label_encoder.transform(y_test)\n",
    "num_classes = len(label_encoder.classes_)\n"
   ]
  },
  {
   "cell_type": "code",
   "execution_count": 114,
   "metadata": {},
   "outputs": [],
   "source": [
    "class JobDataset(Dataset):\n",
    "    def __init__(self, texts, labels, vectorizer):\n",
    "        self.texts = texts\n",
    "        self.labels = labels\n",
    "        self.vectorizer = vectorizer\n",
    "\n",
    "    def __len__(self):\n",
    "        return len(self.texts)\n",
    "\n",
    "    def __getitem__(self, idx):\n",
    "        text = str(self.texts[idx])\n",
    "        label = self.labels[idx]\n",
    "        vector = self.vectorizer.transform([text]).toarray().squeeze()\n",
    "        return torch.tensor(vector, dtype=torch.float32), torch.tensor(label, dtype=torch.long)\n",
    "\n",
    "train_dataset = JobDataset(X_train, y_train_encoded, vectorizer)\n",
    "test_dataset = JobDataset(X_test, y_test_encoded, vectorizer)\n",
    "\n",
    "train_loader = DataLoader(train_dataset, batch_size=32, shuffle=True)\n",
    "test_loader = DataLoader(test_dataset, batch_size=32, shuffle=False)"
   ]
  },
  {
   "cell_type": "code",
   "execution_count": null,
   "metadata": {},
   "outputs": [
    {
     "ename": "SyntaxError",
     "evalue": "unmatched ')' (1581607432.py, line 17)",
     "output_type": "error",
     "traceback": [
      "\u001b[1;36m  Cell \u001b[1;32mIn[120], line 17\u001b[1;36m\u001b[0m\n\u001b[1;33m    )\u001b[0m\n\u001b[1;37m    ^\u001b[0m\n\u001b[1;31mSyntaxError\u001b[0m\u001b[1;31m:\u001b[0m unmatched ')'\n"
     ]
    }
   ],
   "source": [
    "import torch.nn as nn\n",
    "\n",
    "class FFNNModel(nn.Module):\n",
    "    def __init__(self, input_size, hidden_dim, num_classes):\n",
    "        super(FFNNModel, self).__init__()\n",
    "        self.fc = nn.Sequential(\n",
    "            nn.Linear(input_size, 512),\n",
    "            nn.ReLU(),\n",
    "            nn.Dropout(0.4),\n",
    "            nn.Linear(512, 256),\n",
    "            nn.ReLU(),\n",
    "            nn.Dropout(0.3),\n",
    "            nn.Linear(256, 128),\n",
    "            nn.ReLU(),\n",
    "            nn.Linear(128, num_classes)\n",
    ")\n",
    "        \n",
    "\n",
    "    def forward(self, x):\n",
    "        return self.fc(x)\n"
   ]
  },
  {
   "cell_type": "code",
   "execution_count": 121,
   "metadata": {},
   "outputs": [],
   "source": [
    "class JobDataset(Dataset):\n",
    "    def __init__(self, texts, labels, vectorizer):\n",
    "        self.texts = texts\n",
    "        self.labels = labels\n",
    "        self.vectorizer = vectorizer\n",
    "\n",
    "    def __len__(self):\n",
    "        return len(self.texts)\n",
    "\n",
    "    def __getitem__(self, idx):\n",
    "        text = self.texts[idx]\n",
    "        label = self.labels[idx]\n",
    "        if isinstance(text, np.ndarray):\n",
    "            text = str(text[0]) if text.size > 0 else \"\"\n",
    "        elif not isinstance(text, str):\n",
    "            text = str(text)\n",
    "        vector = self.vectorizer.transform([text]).toarray()[0]\n",
    "        return torch.FloatTensor(vector), torch.tensor(label, dtype=torch.long)\n"
   ]
  },
  {
   "cell_type": "code",
   "execution_count": 122,
   "metadata": {},
   "outputs": [],
   "source": [
    "input_size = X_train_tfidf.shape[1]  # Use full feature size, no truncation\n",
    "hidden_dim = 128\n",
    "num_classes = len(label_encoder.classes_)\n",
    "\n",
    "model = FFNNModel(input_size=input_size, hidden_dim=hidden_dim, num_classes=num_classes).to(device)\n",
    "\n",
    "criterion = nn.CrossEntropyLoss()\n",
    "optimizer = torch.optim.Adam(model.parameters(), lr=0.001)\n"
   ]
  },
  {
   "cell_type": "code",
   "execution_count": 123,
   "metadata": {},
   "outputs": [],
   "source": [
    "def train_epoch(model, dataloader, criterion, optimizer, device):\n",
    "    model.train()\n",
    "    total_loss = 0\n",
    "    for X_batch, y_batch in dataloader:\n",
    "        X_batch, y_batch = X_batch.to(device), y_batch.to(device)\n",
    "        optimizer.zero_grad()\n",
    "        outputs = model(X_batch)\n",
    "        loss = criterion(outputs, y_batch)\n",
    "        loss.backward()\n",
    "        optimizer.step()\n",
    "        total_loss += loss.item()\n",
    "    return total_loss / len(dataloader)\n",
    "\n",
    "def evaluate(model, dataloader, device):\n",
    "    model.eval()\n",
    "    correct = 0\n",
    "    total = 0\n",
    "    with torch.no_grad():\n",
    "        for X_batch, y_batch in dataloader:\n",
    "            X_batch, y_batch = X_batch.to(device), y_batch.to(device)\n",
    "            outputs = model(X_batch)\n",
    "            _, predicted = torch.max(outputs.data, 1)\n",
    "            total += y_batch.size(0)\n",
    "            correct += (predicted == y_batch).sum().item()\n",
    "    return correct / total\n"
   ]
  },
  {
   "cell_type": "code",
   "execution_count": 124,
   "metadata": {},
   "outputs": [
    {
     "ename": "AttributeError",
     "evalue": "'FFNNModel' object has no attribute 'fc'",
     "output_type": "error",
     "traceback": [
      "\u001b[1;31m---------------------------------------------------------------------------\u001b[0m",
      "\u001b[1;31mAttributeError\u001b[0m                            Traceback (most recent call last)",
      "Cell \u001b[1;32mIn[124], line 5\u001b[0m\n\u001b[0;32m      2\u001b[0m train_losses \u001b[38;5;241m=\u001b[39m []\n\u001b[0;32m      4\u001b[0m \u001b[38;5;28;01mfor\u001b[39;00m epoch \u001b[38;5;129;01min\u001b[39;00m \u001b[38;5;28mrange\u001b[39m(num_epochs):\n\u001b[1;32m----> 5\u001b[0m     train_loss \u001b[38;5;241m=\u001b[39m \u001b[43mtrain_epoch\u001b[49m\u001b[43m(\u001b[49m\u001b[43mmodel\u001b[49m\u001b[43m,\u001b[49m\u001b[43m \u001b[49m\u001b[43mtrain_loader\u001b[49m\u001b[43m,\u001b[49m\u001b[43m \u001b[49m\u001b[43mcriterion\u001b[49m\u001b[43m,\u001b[49m\u001b[43m \u001b[49m\u001b[43moptimizer\u001b[49m\u001b[43m,\u001b[49m\u001b[43m \u001b[49m\u001b[43mdevice\u001b[49m\u001b[43m)\u001b[49m\n\u001b[0;32m      6\u001b[0m     train_losses\u001b[38;5;241m.\u001b[39mappend(train_loss)\n\u001b[0;32m      7\u001b[0m     test_acc \u001b[38;5;241m=\u001b[39m evaluate(model, test_loader, device)\n",
      "Cell \u001b[1;32mIn[123], line 7\u001b[0m, in \u001b[0;36mtrain_epoch\u001b[1;34m(model, dataloader, criterion, optimizer, device)\u001b[0m\n\u001b[0;32m      5\u001b[0m X_batch, y_batch \u001b[38;5;241m=\u001b[39m X_batch\u001b[38;5;241m.\u001b[39mto(device), y_batch\u001b[38;5;241m.\u001b[39mto(device)\n\u001b[0;32m      6\u001b[0m optimizer\u001b[38;5;241m.\u001b[39mzero_grad()\n\u001b[1;32m----> 7\u001b[0m outputs \u001b[38;5;241m=\u001b[39m \u001b[43mmodel\u001b[49m\u001b[43m(\u001b[49m\u001b[43mX_batch\u001b[49m\u001b[43m)\u001b[49m\n\u001b[0;32m      8\u001b[0m loss \u001b[38;5;241m=\u001b[39m criterion(outputs, y_batch)\n\u001b[0;32m      9\u001b[0m loss\u001b[38;5;241m.\u001b[39mbackward()\n",
      "File \u001b[1;32mc:\\Users\\Komal\\anaconda3\\envs\\job_recommendation\\lib\\site-packages\\torch\\nn\\modules\\module.py:1553\u001b[0m, in \u001b[0;36mModule._wrapped_call_impl\u001b[1;34m(self, *args, **kwargs)\u001b[0m\n\u001b[0;32m   1551\u001b[0m     \u001b[38;5;28;01mreturn\u001b[39;00m \u001b[38;5;28mself\u001b[39m\u001b[38;5;241m.\u001b[39m_compiled_call_impl(\u001b[38;5;241m*\u001b[39margs, \u001b[38;5;241m*\u001b[39m\u001b[38;5;241m*\u001b[39mkwargs)  \u001b[38;5;66;03m# type: ignore[misc]\u001b[39;00m\n\u001b[0;32m   1552\u001b[0m \u001b[38;5;28;01melse\u001b[39;00m:\n\u001b[1;32m-> 1553\u001b[0m     \u001b[38;5;28;01mreturn\u001b[39;00m \u001b[38;5;28;43mself\u001b[39;49m\u001b[38;5;241;43m.\u001b[39;49m\u001b[43m_call_impl\u001b[49m\u001b[43m(\u001b[49m\u001b[38;5;241;43m*\u001b[39;49m\u001b[43margs\u001b[49m\u001b[43m,\u001b[49m\u001b[43m \u001b[49m\u001b[38;5;241;43m*\u001b[39;49m\u001b[38;5;241;43m*\u001b[39;49m\u001b[43mkwargs\u001b[49m\u001b[43m)\u001b[49m\n",
      "File \u001b[1;32mc:\\Users\\Komal\\anaconda3\\envs\\job_recommendation\\lib\\site-packages\\torch\\nn\\modules\\module.py:1562\u001b[0m, in \u001b[0;36mModule._call_impl\u001b[1;34m(self, *args, **kwargs)\u001b[0m\n\u001b[0;32m   1557\u001b[0m \u001b[38;5;66;03m# If we don't have any hooks, we want to skip the rest of the logic in\u001b[39;00m\n\u001b[0;32m   1558\u001b[0m \u001b[38;5;66;03m# this function, and just call forward.\u001b[39;00m\n\u001b[0;32m   1559\u001b[0m \u001b[38;5;28;01mif\u001b[39;00m \u001b[38;5;129;01mnot\u001b[39;00m (\u001b[38;5;28mself\u001b[39m\u001b[38;5;241m.\u001b[39m_backward_hooks \u001b[38;5;129;01mor\u001b[39;00m \u001b[38;5;28mself\u001b[39m\u001b[38;5;241m.\u001b[39m_backward_pre_hooks \u001b[38;5;129;01mor\u001b[39;00m \u001b[38;5;28mself\u001b[39m\u001b[38;5;241m.\u001b[39m_forward_hooks \u001b[38;5;129;01mor\u001b[39;00m \u001b[38;5;28mself\u001b[39m\u001b[38;5;241m.\u001b[39m_forward_pre_hooks\n\u001b[0;32m   1560\u001b[0m         \u001b[38;5;129;01mor\u001b[39;00m _global_backward_pre_hooks \u001b[38;5;129;01mor\u001b[39;00m _global_backward_hooks\n\u001b[0;32m   1561\u001b[0m         \u001b[38;5;129;01mor\u001b[39;00m _global_forward_hooks \u001b[38;5;129;01mor\u001b[39;00m _global_forward_pre_hooks):\n\u001b[1;32m-> 1562\u001b[0m     \u001b[38;5;28;01mreturn\u001b[39;00m \u001b[43mforward_call\u001b[49m\u001b[43m(\u001b[49m\u001b[38;5;241;43m*\u001b[39;49m\u001b[43margs\u001b[49m\u001b[43m,\u001b[49m\u001b[43m \u001b[49m\u001b[38;5;241;43m*\u001b[39;49m\u001b[38;5;241;43m*\u001b[39;49m\u001b[43mkwargs\u001b[49m\u001b[43m)\u001b[49m\n\u001b[0;32m   1564\u001b[0m \u001b[38;5;28;01mtry\u001b[39;00m:\n\u001b[0;32m   1565\u001b[0m     result \u001b[38;5;241m=\u001b[39m \u001b[38;5;28;01mNone\u001b[39;00m\n",
      "Cell \u001b[1;32mIn[115], line 21\u001b[0m, in \u001b[0;36mFFNNModel.forward\u001b[1;34m(self, x)\u001b[0m\n\u001b[0;32m     20\u001b[0m \u001b[38;5;28;01mdef\u001b[39;00m \u001b[38;5;21mforward\u001b[39m(\u001b[38;5;28mself\u001b[39m, x):\n\u001b[1;32m---> 21\u001b[0m     \u001b[38;5;28;01mreturn\u001b[39;00m \u001b[38;5;28;43mself\u001b[39;49m\u001b[38;5;241;43m.\u001b[39;49m\u001b[43mfc\u001b[49m(x)\n",
      "File \u001b[1;32mc:\\Users\\Komal\\anaconda3\\envs\\job_recommendation\\lib\\site-packages\\torch\\nn\\modules\\module.py:1729\u001b[0m, in \u001b[0;36mModule.__getattr__\u001b[1;34m(self, name)\u001b[0m\n\u001b[0;32m   1727\u001b[0m     \u001b[38;5;28;01mif\u001b[39;00m name \u001b[38;5;129;01min\u001b[39;00m modules:\n\u001b[0;32m   1728\u001b[0m         \u001b[38;5;28;01mreturn\u001b[39;00m modules[name]\n\u001b[1;32m-> 1729\u001b[0m \u001b[38;5;28;01mraise\u001b[39;00m \u001b[38;5;167;01mAttributeError\u001b[39;00m(\u001b[38;5;124mf\u001b[39m\u001b[38;5;124m\"\u001b[39m\u001b[38;5;124m'\u001b[39m\u001b[38;5;132;01m{\u001b[39;00m\u001b[38;5;28mtype\u001b[39m(\u001b[38;5;28mself\u001b[39m)\u001b[38;5;241m.\u001b[39m\u001b[38;5;18m__name__\u001b[39m\u001b[38;5;132;01m}\u001b[39;00m\u001b[38;5;124m'\u001b[39m\u001b[38;5;124m object has no attribute \u001b[39m\u001b[38;5;124m'\u001b[39m\u001b[38;5;132;01m{\u001b[39;00mname\u001b[38;5;132;01m}\u001b[39;00m\u001b[38;5;124m'\u001b[39m\u001b[38;5;124m\"\u001b[39m)\n",
      "\u001b[1;31mAttributeError\u001b[0m: 'FFNNModel' object has no attribute 'fc'"
     ]
    }
   ],
   "source": [
    "num_epochs = 30\n",
    "train_losses = []\n",
    "\n",
    "for epoch in range(num_epochs):\n",
    "    train_loss = train_epoch(model, train_loader, criterion, optimizer, device)\n",
    "    train_losses.append(train_loss)\n",
    "    test_acc = evaluate(model, test_loader, device)\n",
    "    print(f\"Epoch {epoch+1}/{num_epochs}, Loss: {train_loss:.4f}, Test Accuracy: {test_acc:.4f}\")\n"
   ]
  },
  {
   "cell_type": "markdown",
   "metadata": {},
   "source": [
    "## FFNN with BERT Embeddings"
   ]
  },
  {
   "cell_type": "code",
   "execution_count": 78,
   "metadata": {},
   "outputs": [
    {
     "name": "stdout",
     "output_type": "stream",
     "text": [
      "Collecting transformers\n",
      "  Using cached transformers-4.46.3-py3-none-any.whl.metadata (44 kB)\n",
      "Requirement already satisfied: filelock in c:\\users\\komal\\anaconda3\\envs\\job_recommendation\\lib\\site-packages (from transformers) (3.16.1)\n",
      "Collecting huggingface-hub<1.0,>=0.23.2 (from transformers)\n",
      "  Using cached huggingface_hub-0.30.2-py3-none-any.whl.metadata (13 kB)\n",
      "Requirement already satisfied: numpy>=1.17 in c:\\users\\komal\\anaconda3\\envs\\job_recommendation\\lib\\site-packages (from transformers) (1.24.4)\n",
      "Requirement already satisfied: packaging>=20.0 in c:\\users\\komal\\anaconda3\\envs\\job_recommendation\\lib\\site-packages (from transformers) (24.2)\n",
      "Collecting pyyaml>=5.1 (from transformers)\n",
      "  Using cached PyYAML-6.0.2-cp38-cp38-win_amd64.whl.metadata (2.1 kB)\n",
      "Requirement already satisfied: regex!=2019.12.17 in c:\\users\\komal\\anaconda3\\envs\\job_recommendation\\lib\\site-packages (from transformers) (2024.11.6)\n",
      "Collecting requests (from transformers)\n",
      "  Using cached requests-2.32.3-py3-none-any.whl.metadata (4.6 kB)\n",
      "Collecting tokenizers<0.21,>=0.20 (from transformers)\n",
      "  Using cached tokenizers-0.20.3-cp38-none-win_amd64.whl.metadata (6.9 kB)\n",
      "Collecting safetensors>=0.4.1 (from transformers)\n",
      "  Using cached safetensors-0.5.3-cp38-abi3-win_amd64.whl.metadata (3.9 kB)\n",
      "Requirement already satisfied: tqdm>=4.27 in c:\\users\\komal\\anaconda3\\envs\\job_recommendation\\lib\\site-packages (from transformers) (4.67.1)\n",
      "Requirement already satisfied: fsspec>=2023.5.0 in c:\\users\\komal\\anaconda3\\envs\\job_recommendation\\lib\\site-packages (from huggingface-hub<1.0,>=0.23.2->transformers) (2025.3.0)\n",
      "Requirement already satisfied: typing-extensions>=3.7.4.3 in c:\\users\\komal\\anaconda3\\envs\\job_recommendation\\lib\\site-packages (from huggingface-hub<1.0,>=0.23.2->transformers) (4.12.2)\n",
      "Requirement already satisfied: colorama in c:\\users\\komal\\anaconda3\\envs\\job_recommendation\\lib\\site-packages (from tqdm>=4.27->transformers) (0.4.6)\n",
      "Collecting charset-normalizer<4,>=2 (from requests->transformers)\n",
      "  Using cached charset_normalizer-3.4.1-cp38-cp38-win_amd64.whl.metadata (36 kB)\n",
      "Collecting idna<4,>=2.5 (from requests->transformers)\n",
      "  Using cached idna-3.10-py3-none-any.whl.metadata (10 kB)\n",
      "Collecting urllib3<3,>=1.21.1 (from requests->transformers)\n",
      "  Using cached urllib3-2.2.3-py3-none-any.whl.metadata (6.5 kB)\n",
      "Collecting certifi>=2017.4.17 (from requests->transformers)\n",
      "  Using cached certifi-2025.1.31-py3-none-any.whl.metadata (2.5 kB)\n",
      "Using cached transformers-4.46.3-py3-none-any.whl (10.0 MB)\n",
      "Using cached huggingface_hub-0.30.2-py3-none-any.whl (481 kB)\n",
      "Using cached PyYAML-6.0.2-cp38-cp38-win_amd64.whl (162 kB)\n",
      "Using cached safetensors-0.5.3-cp38-abi3-win_amd64.whl (308 kB)\n",
      "Using cached tokenizers-0.20.3-cp38-none-win_amd64.whl (2.4 MB)\n",
      "Using cached requests-2.32.3-py3-none-any.whl (64 kB)\n",
      "Using cached certifi-2025.1.31-py3-none-any.whl (166 kB)\n",
      "Using cached charset_normalizer-3.4.1-cp38-cp38-win_amd64.whl (102 kB)\n",
      "Using cached idna-3.10-py3-none-any.whl (70 kB)\n",
      "Using cached urllib3-2.2.3-py3-none-any.whl (126 kB)\n",
      "Installing collected packages: urllib3, safetensors, pyyaml, idna, charset-normalizer, certifi, requests, huggingface-hub, tokenizers, transformers\n",
      "Successfully installed certifi-2025.1.31 charset-normalizer-3.4.1 huggingface-hub-0.30.2 idna-3.10 pyyaml-6.0.2 requests-2.32.3 safetensors-0.5.3 tokenizers-0.20.3 transformers-4.46.3 urllib3-2.2.3\n",
      "Collecting sentence-transformers\n",
      "  Downloading sentence_transformers-3.2.1-py3-none-any.whl.metadata (10 kB)\n",
      "Requirement already satisfied: transformers<5.0.0,>=4.41.0 in c:\\users\\komal\\anaconda3\\envs\\job_recommendation\\lib\\site-packages (from sentence-transformers) (4.46.3)\n",
      "Requirement already satisfied: tqdm in c:\\users\\komal\\anaconda3\\envs\\job_recommendation\\lib\\site-packages (from sentence-transformers) (4.67.1)\n",
      "Requirement already satisfied: torch>=1.11.0 in c:\\users\\komal\\anaconda3\\envs\\job_recommendation\\lib\\site-packages (from sentence-transformers) (2.4.1)\n",
      "Requirement already satisfied: scikit-learn in c:\\users\\komal\\anaconda3\\envs\\job_recommendation\\lib\\site-packages (from sentence-transformers) (1.3.2)\n",
      "Requirement already satisfied: scipy in c:\\users\\komal\\anaconda3\\envs\\job_recommendation\\lib\\site-packages (from sentence-transformers) (1.10.1)\n",
      "Requirement already satisfied: huggingface-hub>=0.20.0 in c:\\users\\komal\\anaconda3\\envs\\job_recommendation\\lib\\site-packages (from sentence-transformers) (0.30.2)\n",
      "Requirement already satisfied: Pillow in c:\\users\\komal\\anaconda3\\envs\\job_recommendation\\lib\\site-packages (from sentence-transformers) (10.4.0)\n",
      "Requirement already satisfied: filelock in c:\\users\\komal\\anaconda3\\envs\\job_recommendation\\lib\\site-packages (from huggingface-hub>=0.20.0->sentence-transformers) (3.16.1)\n",
      "Requirement already satisfied: fsspec>=2023.5.0 in c:\\users\\komal\\anaconda3\\envs\\job_recommendation\\lib\\site-packages (from huggingface-hub>=0.20.0->sentence-transformers) (2025.3.0)\n",
      "Requirement already satisfied: packaging>=20.9 in c:\\users\\komal\\anaconda3\\envs\\job_recommendation\\lib\\site-packages (from huggingface-hub>=0.20.0->sentence-transformers) (24.2)\n",
      "Requirement already satisfied: pyyaml>=5.1 in c:\\users\\komal\\anaconda3\\envs\\job_recommendation\\lib\\site-packages (from huggingface-hub>=0.20.0->sentence-transformers) (6.0.2)\n",
      "Requirement already satisfied: requests in c:\\users\\komal\\anaconda3\\envs\\job_recommendation\\lib\\site-packages (from huggingface-hub>=0.20.0->sentence-transformers) (2.32.3)\n",
      "Requirement already satisfied: typing-extensions>=3.7.4.3 in c:\\users\\komal\\anaconda3\\envs\\job_recommendation\\lib\\site-packages (from huggingface-hub>=0.20.0->sentence-transformers) (4.12.2)\n",
      "Requirement already satisfied: sympy in c:\\users\\komal\\anaconda3\\envs\\job_recommendation\\lib\\site-packages (from torch>=1.11.0->sentence-transformers) (1.13.3)\n",
      "Requirement already satisfied: networkx in c:\\users\\komal\\anaconda3\\envs\\job_recommendation\\lib\\site-packages (from torch>=1.11.0->sentence-transformers) (3.1)\n",
      "Requirement already satisfied: jinja2 in c:\\users\\komal\\anaconda3\\envs\\job_recommendation\\lib\\site-packages (from torch>=1.11.0->sentence-transformers) (3.1.6)\n",
      "Requirement already satisfied: colorama in c:\\users\\komal\\anaconda3\\envs\\job_recommendation\\lib\\site-packages (from tqdm->sentence-transformers) (0.4.6)\n",
      "Requirement already satisfied: numpy>=1.17 in c:\\users\\komal\\anaconda3\\envs\\job_recommendation\\lib\\site-packages (from transformers<5.0.0,>=4.41.0->sentence-transformers) (1.24.4)\n",
      "Requirement already satisfied: regex!=2019.12.17 in c:\\users\\komal\\anaconda3\\envs\\job_recommendation\\lib\\site-packages (from transformers<5.0.0,>=4.41.0->sentence-transformers) (2024.11.6)\n",
      "Requirement already satisfied: tokenizers<0.21,>=0.20 in c:\\users\\komal\\anaconda3\\envs\\job_recommendation\\lib\\site-packages (from transformers<5.0.0,>=4.41.0->sentence-transformers) (0.20.3)\n",
      "Requirement already satisfied: safetensors>=0.4.1 in c:\\users\\komal\\anaconda3\\envs\\job_recommendation\\lib\\site-packages (from transformers<5.0.0,>=4.41.0->sentence-transformers) (0.5.3)\n",
      "Requirement already satisfied: joblib>=1.1.1 in c:\\users\\komal\\anaconda3\\envs\\job_recommendation\\lib\\site-packages (from scikit-learn->sentence-transformers) (1.4.2)\n",
      "Requirement already satisfied: threadpoolctl>=2.0.0 in c:\\users\\komal\\anaconda3\\envs\\job_recommendation\\lib\\site-packages (from scikit-learn->sentence-transformers) (3.5.0)\n",
      "Requirement already satisfied: MarkupSafe>=2.0 in c:\\users\\komal\\anaconda3\\envs\\job_recommendation\\lib\\site-packages (from jinja2->torch>=1.11.0->sentence-transformers) (2.1.5)\n",
      "Requirement already satisfied: charset-normalizer<4,>=2 in c:\\users\\komal\\anaconda3\\envs\\job_recommendation\\lib\\site-packages (from requests->huggingface-hub>=0.20.0->sentence-transformers) (3.4.1)\n",
      "Requirement already satisfied: idna<4,>=2.5 in c:\\users\\komal\\anaconda3\\envs\\job_recommendation\\lib\\site-packages (from requests->huggingface-hub>=0.20.0->sentence-transformers) (3.10)\n",
      "Requirement already satisfied: urllib3<3,>=1.21.1 in c:\\users\\komal\\anaconda3\\envs\\job_recommendation\\lib\\site-packages (from requests->huggingface-hub>=0.20.0->sentence-transformers) (2.2.3)\n",
      "Requirement already satisfied: certifi>=2017.4.17 in c:\\users\\komal\\anaconda3\\envs\\job_recommendation\\lib\\site-packages (from requests->huggingface-hub>=0.20.0->sentence-transformers) (2025.1.31)\n",
      "Requirement already satisfied: mpmath<1.4,>=1.1.0 in c:\\users\\komal\\anaconda3\\envs\\job_recommendation\\lib\\site-packages (from sympy->torch>=1.11.0->sentence-transformers) (1.3.0)\n",
      "Downloading sentence_transformers-3.2.1-py3-none-any.whl (255 kB)\n",
      "Installing collected packages: sentence-transformers\n",
      "Successfully installed sentence-transformers-3.2.1\n"
     ]
    }
   ],
   "source": [
    "!pip install transformers\n",
    "!pip install sentence-transformers\n"
   ]
  },
  {
   "cell_type": "code",
   "execution_count": null,
   "metadata": {},
   "outputs": [
    {
     "name": "stdout",
     "output_type": "stream",
     "text": [
      "TF-IDF input dim: 10000, Num classes: 15\n",
      "Epoch 1/15, Loss: 1.7977, Accuracy: 0.7368\n",
      "Epoch 2/15, Loss: 0.7722, Accuracy: 0.8224\n",
      "Epoch 3/15, Loss: 0.3468, Accuracy: 0.7939\n",
      "Epoch 4/15, Loss: 0.2100, Accuracy: 0.8004\n",
      "Epoch 5/15, Loss: 0.1335, Accuracy: 0.8180\n",
      "Epoch 6/15, Loss: 0.1104, Accuracy: 0.7961\n",
      "Epoch 7/15, Loss: 0.1116, Accuracy: 0.8246\n",
      "Epoch 8/15, Loss: 0.0885, Accuracy: 0.8158\n",
      "Epoch 9/15, Loss: 0.0732, Accuracy: 0.8048\n",
      "Epoch 10/15, Loss: 0.0717, Accuracy: 0.8180\n",
      "Epoch 11/15, Loss: 0.0655, Accuracy: 0.8158\n",
      "Epoch 12/15, Loss: 0.0571, Accuracy: 0.8180\n",
      "Epoch 13/15, Loss: 0.0513, Accuracy: 0.8246\n",
      "Epoch 14/15, Loss: 0.0502, Accuracy: 0.8158\n",
      "Epoch 15/15, Loss: 0.0564, Accuracy: 0.8048\n"
     ]
    }
   ],
   "source": [
    "import pandas as pd\n",
    "import numpy as np\n",
    "import torch\n",
    "import torch.nn as nn\n",
    "from torch.utils.data import Dataset, DataLoader\n",
    "from sklearn.feature_extraction.text import TfidfVectorizer\n",
    "from sklearn.preprocessing import LabelEncoder\n",
    "from sklearn.model_selection import StratifiedShuffleSplit\n",
    "\n",
    "\n",
    "# Load and Preprocess Data\n",
    "\n",
    "df = pd.read_csv(r'C:\\Projects\\Job Recommendation\\data\\processed_job_descriptions.csv')\n",
    "\n",
    "X = df['cleaned_text']\n",
    "y = df['Job Title']\n",
    "\n",
    "# Stratified Split\n",
    "sss = StratifiedShuffleSplit(n_splits=1, test_size=0.2, random_state=42)\n",
    "for train_idx, test_idx in sss.split(X, y):\n",
    "    X_train, X_test = X.iloc[train_idx].reset_index(drop=True), X.iloc[test_idx].reset_index(drop=True)\n",
    "    y_train, y_test = y.iloc[train_idx].reset_index(drop=True), y.iloc[test_idx].reset_index(drop=True)\n",
    "\n",
    "# TF-IDF Vectorizer\n",
    "vectorizer = TfidfVectorizer(\n",
    "    max_features=10000,\n",
    "    ngram_range=(1, 2),\n",
    "    min_df=3,\n",
    "    max_df=0.8,\n",
    "    stop_words='english'\n",
    ")\n",
    "vectorizer.fit(X_train)\n",
    "\n",
    "# Transform into TF-IDF features\n",
    "X_train_tfidf = vectorizer.transform(X_train).toarray()\n",
    "X_test_tfidf = vectorizer.transform(X_test).toarray()\n",
    "\n",
    "# Label Encoding\n",
    "label_encoder = LabelEncoder()\n",
    "y_train_encoded = label_encoder.fit_transform(y_train)\n",
    "y_test_encoded = label_encoder.transform(y_test)\n",
    "\n",
    "print(f\"TF-IDF input dim: {X_train_tfidf.shape[1]}, Num classes: {len(label_encoder.classes_)}\")\n",
    "\n",
    "# Dataset Class\n",
    "\n",
    "class JobDataset(Dataset):\n",
    "    def __init__(self, tfidf_vectors, labels):\n",
    "        self.vectors = tfidf_vectors\n",
    "        self.labels = labels\n",
    "\n",
    "    def __len__(self):\n",
    "        return len(self.vectors)\n",
    "\n",
    "    def __getitem__(self, idx):\n",
    "        return torch.tensor(self.vectors[idx], dtype=torch.float32), torch.tensor(self.labels[idx], dtype=torch.long)\n",
    "\n",
    "\n",
    "# Dataloaders\n",
    "\n",
    "batch_size = 32\n",
    "train_dataset = JobDataset(X_train_tfidf, y_train_encoded)\n",
    "test_dataset = JobDataset(X_test_tfidf, y_test_encoded)\n",
    "\n",
    "train_loader = DataLoader(train_dataset, batch_size=batch_size, shuffle=True)\n",
    "test_loader = DataLoader(test_dataset, batch_size=batch_size)\n",
    "\n",
    "\n",
    "# Improved FFNN Model\n",
    "\n",
    "class ImprovedFFNN(nn.Module):\n",
    "    def __init__(self, input_dim, hidden_dims, num_classes):\n",
    "        super().__init__()\n",
    "        layers = []\n",
    "        prev_dim = input_dim\n",
    "\n",
    "        for hidden_dim in hidden_dims:\n",
    "            layers.extend([\n",
    "                nn.Linear(prev_dim, hidden_dim),\n",
    "                nn.BatchNorm1d(hidden_dim),\n",
    "                nn.ReLU(),\n",
    "                nn.Dropout(0.3),\n",
    "            ])\n",
    "            prev_dim = hidden_dim\n",
    "\n",
    "        layers.append(nn.Linear(prev_dim, num_classes))\n",
    "        self.network = nn.Sequential(*layers)\n",
    "\n",
    "    def forward(self, x):\n",
    "        return self.network(x)\n",
    "\n",
    "\n",
    "# Training & Evaluation\n",
    "\n",
    "def train(model, train_loader, criterion, optimizer, device):\n",
    "    model.train()\n",
    "    total_loss = 0\n",
    "\n",
    "    for inputs, labels in train_loader:\n",
    "        inputs, labels = inputs.to(device), labels.to(device)\n",
    "\n",
    "        optimizer.zero_grad()\n",
    "        outputs = model(inputs)\n",
    "\n",
    "        loss = criterion(outputs, labels)\n",
    "        loss.backward()\n",
    "        optimizer.step()\n",
    "\n",
    "        total_loss += loss.item()\n",
    "\n",
    "    return total_loss / len(train_loader)\n",
    "\n",
    "def evaluate(model, test_loader, device):\n",
    "    model.eval()\n",
    "    correct, total = 0, 0\n",
    "\n",
    "    with torch.no_grad():\n",
    "        for inputs, labels in test_loader:\n",
    "            inputs, labels = inputs.to(device), labels.to(device)\n",
    "            outputs = model(inputs)\n",
    "            _, predicted = torch.max(outputs, 1)\n",
    "\n",
    "            total += labels.size(0)\n",
    "            correct += (predicted == labels).sum().item()\n",
    "\n",
    "    return correct / total\n",
    "\n",
    "\n",
    "#  Run Training\n",
    "\n",
    "input_dim = X_train_tfidf.shape[1]\n",
    "hidden_dims = [512, 256, 128]\n",
    "num_classes = len(label_encoder.classes_)\n",
    "num_epochs = 15\n",
    "learning_rate = 1e-3\n",
    "device = torch.device('cuda' if torch.cuda.is_available() else 'cpu')\n",
    "\n",
    "model = ImprovedFFNN(input_dim, hidden_dims, num_classes).to(device)\n",
    "optimizer = torch.optim.Adam(model.parameters(), lr=learning_rate)\n",
    "criterion = nn.CrossEntropyLoss()\n",
    "\n",
    "for epoch in range(num_epochs):\n",
    "    train_loss = train(model, train_loader, criterion, optimizer, device)\n",
    "    accuracy = evaluate(model, test_loader, device)\n",
    "    print(f\"Epoch {epoch+1}/{num_epochs}, Loss: {train_loss:.4f}, Accuracy: {accuracy:.4f}\")\n"
   ]
  }
 ],
 "metadata": {
  "kernelspec": {
   "display_name": "job_recommendation",
   "language": "python",
   "name": "python3"
  },
  "language_info": {
   "codemirror_mode": {
    "name": "ipython",
    "version": 3
   },
   "file_extension": ".py",
   "mimetype": "text/x-python",
   "name": "python",
   "nbconvert_exporter": "python",
   "pygments_lexer": "ipython3",
   "version": "3.8.20"
  }
 },
 "nbformat": 4,
 "nbformat_minor": 4
}
